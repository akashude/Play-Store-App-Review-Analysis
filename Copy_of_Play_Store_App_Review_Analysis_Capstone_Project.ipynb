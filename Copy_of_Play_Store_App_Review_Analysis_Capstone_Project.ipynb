{
  "nbformat": 4,
  "nbformat_minor": 0,
  "metadata": {
    "kernelspec": {
      "display_name": "Python 3",
      "language": "python",
      "name": "python3"
    },
    "language_info": {
      "codemirror_mode": {
        "name": "ipython",
        "version": 3
      },
      "file_extension": ".py",
      "mimetype": "text/x-python",
      "name": "python",
      "nbconvert_exporter": "python",
      "pygments_lexer": "ipython3",
      "version": "3.6.6"
    },
    "colab": {
      "name": "Copy of Play Store App Review Analysis - Capstone Project.ipynb",
      "provenance": [],
      "collapsed_sections": [],
      "include_colab_link": true
    }
  },
  "cells": [
    {
      "cell_type": "markdown",
      "metadata": {
        "id": "view-in-github",
        "colab_type": "text"
      },
      "source": [
        "<a href=\"https://colab.research.google.com/github/akashude/Play-Store-App-Review-Analysis/blob/main/Copy_of_Play_Store_App_Review_Analysis_Capstone_Project.ipynb\" target=\"_parent\"><img src=\"https://colab.research.google.com/assets/colab-badge.svg\" alt=\"Open In Colab\"/></a>"
      ]
    },
    {
      "cell_type": "markdown",
      "metadata": {
        "id": "Y06xIdG26kRF"
      },
      "source": [
        "## <b> The Play Store apps data has enormous potential to drive app-making businesses to success. Actionable insights can be drawn for developers to work on and capture the Android market. </b>\n",
        "\n",
        "## <b> Each app (row) has values for catergory, rating, size, and more. Another dataset contains customer reviews of the android apps.</b>\n",
        "\n",
        "## <b> Explore and analyze the data to discover key factors responsible for app engagement and success. </b>"
      ]
    },
    {
      "cell_type": "markdown",
      "metadata": {
        "id": "oxAFfg-60yuM"
      },
      "source": [
        "# Data preparation and cleaning. "
      ]
    },
    {
      "cell_type": "code",
      "metadata": {
        "colab": {
          "base_uri": "https://localhost:8080/"
        },
        "id": "8OgQt2AuoXsp",
        "outputId": "87c9a1e7-efe3-4985-8a20-5b9db8f846a1"
      },
      "source": [
        "from google.colab import drive\n",
        "drive.mount('/content/drive')"
      ],
      "execution_count": 116,
      "outputs": [
        {
          "output_type": "stream",
          "name": "stdout",
          "text": [
            "Drive already mounted at /content/drive; to attempt to forcibly remount, call drive.mount(\"/content/drive\", force_remount=True).\n"
          ]
        }
      ]
    },
    {
      "cell_type": "code",
      "metadata": {
        "id": "dByMsuzT8Tnw"
      },
      "source": [
        "# Importing all the necessory libraries\n",
        "import pandas as pd\n",
        "import numpy as np\n",
        "import seaborn as sns\n",
        "import matplotlib.pyplot as plt\n",
        "%matplotlib inline \n",
        "plt.style.use('ggplot')\n",
        "\n",
        "import matplotlib as mlp \n",
        "mlp.rcParams['figure.figsize'] = (15 ,7)\n",
        "mlp.rcParams['font.size'] = 15"
      ],
      "execution_count": 117,
      "outputs": []
    },
    {
      "cell_type": "code",
      "metadata": {
        "colab": {
          "base_uri": "https://localhost:8080/"
        },
        "id": "hZfG7e9Fo2vw",
        "outputId": "f447ef62-4d17-4672-fe15-f28f04cf878c"
      },
      "source": [
        "# Read the CSV file\n",
        "apps_df = pd.read_csv('/content/drive/MyDrive/Copy of Play Store Data (1).csv')\n",
        "print(f'The dataset has {apps_df.shape[0]} rows and {apps_df.shape[1]} columns')"
      ],
      "execution_count": 118,
      "outputs": [
        {
          "output_type": "stream",
          "name": "stdout",
          "text": [
            "The dataset has 10841 rows and 13 columns\n"
          ]
        }
      ]
    },
    {
      "cell_type": "code",
      "metadata": {
        "id": "qnpfZRe1o8Jh",
        "colab": {
          "base_uri": "https://localhost:8080/",
          "height": 235
        },
        "outputId": "5a46865c-0a2c-4766-d60f-63c66d26c018"
      },
      "source": [
        "# Lets get a peak at the dataset\n",
        "pd.set_option('display.max_columns',10)\n",
        "pd.set_option('display.max_rows',200)\n",
        "apps_df.head()"
      ],
      "execution_count": 119,
      "outputs": [
        {
          "output_type": "execute_result",
          "data": {
            "text/html": [
              "<div>\n",
              "<style scoped>\n",
              "    .dataframe tbody tr th:only-of-type {\n",
              "        vertical-align: middle;\n",
              "    }\n",
              "\n",
              "    .dataframe tbody tr th {\n",
              "        vertical-align: top;\n",
              "    }\n",
              "\n",
              "    .dataframe thead th {\n",
              "        text-align: right;\n",
              "    }\n",
              "</style>\n",
              "<table border=\"1\" class=\"dataframe\">\n",
              "  <thead>\n",
              "    <tr style=\"text-align: right;\">\n",
              "      <th></th>\n",
              "      <th>App</th>\n",
              "      <th>Category</th>\n",
              "      <th>Rating</th>\n",
              "      <th>Reviews</th>\n",
              "      <th>Size</th>\n",
              "      <th>...</th>\n",
              "      <th>Content Rating</th>\n",
              "      <th>Genres</th>\n",
              "      <th>Last Updated</th>\n",
              "      <th>Current Ver</th>\n",
              "      <th>Android Ver</th>\n",
              "    </tr>\n",
              "  </thead>\n",
              "  <tbody>\n",
              "    <tr>\n",
              "      <th>0</th>\n",
              "      <td>Photo Editor &amp; Candy Camera &amp; Grid &amp; ScrapBook</td>\n",
              "      <td>ART_AND_DESIGN</td>\n",
              "      <td>4.1</td>\n",
              "      <td>159</td>\n",
              "      <td>19M</td>\n",
              "      <td>...</td>\n",
              "      <td>Everyone</td>\n",
              "      <td>Art &amp; Design</td>\n",
              "      <td>January 7, 2018</td>\n",
              "      <td>1.0.0</td>\n",
              "      <td>4.0.3 and up</td>\n",
              "    </tr>\n",
              "    <tr>\n",
              "      <th>1</th>\n",
              "      <td>Coloring book moana</td>\n",
              "      <td>ART_AND_DESIGN</td>\n",
              "      <td>3.9</td>\n",
              "      <td>967</td>\n",
              "      <td>14M</td>\n",
              "      <td>...</td>\n",
              "      <td>Everyone</td>\n",
              "      <td>Art &amp; Design;Pretend Play</td>\n",
              "      <td>January 15, 2018</td>\n",
              "      <td>2.0.0</td>\n",
              "      <td>4.0.3 and up</td>\n",
              "    </tr>\n",
              "    <tr>\n",
              "      <th>2</th>\n",
              "      <td>U Launcher Lite – FREE Live Cool Themes, Hide ...</td>\n",
              "      <td>ART_AND_DESIGN</td>\n",
              "      <td>4.7</td>\n",
              "      <td>87510</td>\n",
              "      <td>8.7M</td>\n",
              "      <td>...</td>\n",
              "      <td>Everyone</td>\n",
              "      <td>Art &amp; Design</td>\n",
              "      <td>August 1, 2018</td>\n",
              "      <td>1.2.4</td>\n",
              "      <td>4.0.3 and up</td>\n",
              "    </tr>\n",
              "    <tr>\n",
              "      <th>3</th>\n",
              "      <td>Sketch - Draw &amp; Paint</td>\n",
              "      <td>ART_AND_DESIGN</td>\n",
              "      <td>4.5</td>\n",
              "      <td>215644</td>\n",
              "      <td>25M</td>\n",
              "      <td>...</td>\n",
              "      <td>Teen</td>\n",
              "      <td>Art &amp; Design</td>\n",
              "      <td>June 8, 2018</td>\n",
              "      <td>Varies with device</td>\n",
              "      <td>4.2 and up</td>\n",
              "    </tr>\n",
              "    <tr>\n",
              "      <th>4</th>\n",
              "      <td>Pixel Draw - Number Art Coloring Book</td>\n",
              "      <td>ART_AND_DESIGN</td>\n",
              "      <td>4.3</td>\n",
              "      <td>967</td>\n",
              "      <td>2.8M</td>\n",
              "      <td>...</td>\n",
              "      <td>Everyone</td>\n",
              "      <td>Art &amp; Design;Creativity</td>\n",
              "      <td>June 20, 2018</td>\n",
              "      <td>1.1</td>\n",
              "      <td>4.4 and up</td>\n",
              "    </tr>\n",
              "  </tbody>\n",
              "</table>\n",
              "<p>5 rows × 13 columns</p>\n",
              "</div>"
            ],
            "text/plain": [
              "                                                 App        Category  Rating  \\\n",
              "0     Photo Editor & Candy Camera & Grid & ScrapBook  ART_AND_DESIGN     4.1   \n",
              "1                                Coloring book moana  ART_AND_DESIGN     3.9   \n",
              "2  U Launcher Lite – FREE Live Cool Themes, Hide ...  ART_AND_DESIGN     4.7   \n",
              "3                              Sketch - Draw & Paint  ART_AND_DESIGN     4.5   \n",
              "4              Pixel Draw - Number Art Coloring Book  ART_AND_DESIGN     4.3   \n",
              "\n",
              "  Reviews  Size  ... Content Rating                     Genres  \\\n",
              "0     159   19M  ...       Everyone               Art & Design   \n",
              "1     967   14M  ...       Everyone  Art & Design;Pretend Play   \n",
              "2   87510  8.7M  ...       Everyone               Art & Design   \n",
              "3  215644   25M  ...           Teen               Art & Design   \n",
              "4     967  2.8M  ...       Everyone    Art & Design;Creativity   \n",
              "\n",
              "       Last Updated         Current Ver   Android Ver  \n",
              "0   January 7, 2018               1.0.0  4.0.3 and up  \n",
              "1  January 15, 2018               2.0.0  4.0.3 and up  \n",
              "2    August 1, 2018               1.2.4  4.0.3 and up  \n",
              "3      June 8, 2018  Varies with device    4.2 and up  \n",
              "4     June 20, 2018                 1.1    4.4 and up  \n",
              "\n",
              "[5 rows x 13 columns]"
            ]
          },
          "metadata": {},
          "execution_count": 119
        }
      ]
    },
    {
      "cell_type": "code",
      "metadata": {
        "colab": {
          "base_uri": "https://localhost:8080/",
          "height": 457
        },
        "id": "YFpnIN9sI-PZ",
        "outputId": "5d5d9082-16bf-4f00-fb42-5ce7f029288c"
      },
      "source": [
        "# Lets know the datatypes of the features\n",
        "pd.DataFrame(apps_df.dtypes).rename(columns = {0:'dtype'})"
      ],
      "execution_count": 120,
      "outputs": [
        {
          "output_type": "execute_result",
          "data": {
            "text/html": [
              "<div>\n",
              "<style scoped>\n",
              "    .dataframe tbody tr th:only-of-type {\n",
              "        vertical-align: middle;\n",
              "    }\n",
              "\n",
              "    .dataframe tbody tr th {\n",
              "        vertical-align: top;\n",
              "    }\n",
              "\n",
              "    .dataframe thead th {\n",
              "        text-align: right;\n",
              "    }\n",
              "</style>\n",
              "<table border=\"1\" class=\"dataframe\">\n",
              "  <thead>\n",
              "    <tr style=\"text-align: right;\">\n",
              "      <th></th>\n",
              "      <th>dtype</th>\n",
              "    </tr>\n",
              "  </thead>\n",
              "  <tbody>\n",
              "    <tr>\n",
              "      <th>App</th>\n",
              "      <td>object</td>\n",
              "    </tr>\n",
              "    <tr>\n",
              "      <th>Category</th>\n",
              "      <td>object</td>\n",
              "    </tr>\n",
              "    <tr>\n",
              "      <th>Rating</th>\n",
              "      <td>float64</td>\n",
              "    </tr>\n",
              "    <tr>\n",
              "      <th>Reviews</th>\n",
              "      <td>object</td>\n",
              "    </tr>\n",
              "    <tr>\n",
              "      <th>Size</th>\n",
              "      <td>object</td>\n",
              "    </tr>\n",
              "    <tr>\n",
              "      <th>Installs</th>\n",
              "      <td>object</td>\n",
              "    </tr>\n",
              "    <tr>\n",
              "      <th>Type</th>\n",
              "      <td>object</td>\n",
              "    </tr>\n",
              "    <tr>\n",
              "      <th>Price</th>\n",
              "      <td>object</td>\n",
              "    </tr>\n",
              "    <tr>\n",
              "      <th>Content Rating</th>\n",
              "      <td>object</td>\n",
              "    </tr>\n",
              "    <tr>\n",
              "      <th>Genres</th>\n",
              "      <td>object</td>\n",
              "    </tr>\n",
              "    <tr>\n",
              "      <th>Last Updated</th>\n",
              "      <td>object</td>\n",
              "    </tr>\n",
              "    <tr>\n",
              "      <th>Current Ver</th>\n",
              "      <td>object</td>\n",
              "    </tr>\n",
              "    <tr>\n",
              "      <th>Android Ver</th>\n",
              "      <td>object</td>\n",
              "    </tr>\n",
              "  </tbody>\n",
              "</table>\n",
              "</div>"
            ],
            "text/plain": [
              "                  dtype\n",
              "App              object\n",
              "Category         object\n",
              "Rating          float64\n",
              "Reviews          object\n",
              "Size             object\n",
              "Installs         object\n",
              "Type             object\n",
              "Price            object\n",
              "Content Rating   object\n",
              "Genres           object\n",
              "Last Updated     object\n",
              "Current Ver      object\n",
              "Android Ver      object"
            ]
          },
          "metadata": {},
          "execution_count": 120
        }
      ]
    },
    {
      "cell_type": "markdown",
      "metadata": {
        "id": "F3JY8odsJjXF"
      },
      "source": [
        "* Most of the columns like size , reviews , etc which are in fact numerical are not in the correct form. We need to bring them to their correct datatypes."
      ]
    },
    {
      "cell_type": "code",
      "metadata": {
        "colab": {
          "base_uri": "https://localhost:8080/",
          "height": 423
        },
        "id": "u-y2u42jFJp3",
        "outputId": "37157cfc-083b-4f08-a658-fbff74df064b"
      },
      "source": [
        "# Check some statistice details\n",
        "apps_df.describe(include = 'all')"
      ],
      "execution_count": 121,
      "outputs": [
        {
          "output_type": "execute_result",
          "data": {
            "text/html": [
              "<div>\n",
              "<style scoped>\n",
              "    .dataframe tbody tr th:only-of-type {\n",
              "        vertical-align: middle;\n",
              "    }\n",
              "\n",
              "    .dataframe tbody tr th {\n",
              "        vertical-align: top;\n",
              "    }\n",
              "\n",
              "    .dataframe thead th {\n",
              "        text-align: right;\n",
              "    }\n",
              "</style>\n",
              "<table border=\"1\" class=\"dataframe\">\n",
              "  <thead>\n",
              "    <tr style=\"text-align: right;\">\n",
              "      <th></th>\n",
              "      <th>App</th>\n",
              "      <th>Category</th>\n",
              "      <th>Rating</th>\n",
              "      <th>Reviews</th>\n",
              "      <th>Size</th>\n",
              "      <th>...</th>\n",
              "      <th>Content Rating</th>\n",
              "      <th>Genres</th>\n",
              "      <th>Last Updated</th>\n",
              "      <th>Current Ver</th>\n",
              "      <th>Android Ver</th>\n",
              "    </tr>\n",
              "  </thead>\n",
              "  <tbody>\n",
              "    <tr>\n",
              "      <th>count</th>\n",
              "      <td>10841</td>\n",
              "      <td>10841</td>\n",
              "      <td>9367.000000</td>\n",
              "      <td>10841</td>\n",
              "      <td>10841</td>\n",
              "      <td>...</td>\n",
              "      <td>10840</td>\n",
              "      <td>10841</td>\n",
              "      <td>10841</td>\n",
              "      <td>10833</td>\n",
              "      <td>10838</td>\n",
              "    </tr>\n",
              "    <tr>\n",
              "      <th>unique</th>\n",
              "      <td>9660</td>\n",
              "      <td>34</td>\n",
              "      <td>NaN</td>\n",
              "      <td>6002</td>\n",
              "      <td>462</td>\n",
              "      <td>...</td>\n",
              "      <td>6</td>\n",
              "      <td>120</td>\n",
              "      <td>1378</td>\n",
              "      <td>2832</td>\n",
              "      <td>33</td>\n",
              "    </tr>\n",
              "    <tr>\n",
              "      <th>top</th>\n",
              "      <td>ROBLOX</td>\n",
              "      <td>FAMILY</td>\n",
              "      <td>NaN</td>\n",
              "      <td>0</td>\n",
              "      <td>Varies with device</td>\n",
              "      <td>...</td>\n",
              "      <td>Everyone</td>\n",
              "      <td>Tools</td>\n",
              "      <td>August 3, 2018</td>\n",
              "      <td>Varies with device</td>\n",
              "      <td>4.1 and up</td>\n",
              "    </tr>\n",
              "    <tr>\n",
              "      <th>freq</th>\n",
              "      <td>9</td>\n",
              "      <td>1972</td>\n",
              "      <td>NaN</td>\n",
              "      <td>596</td>\n",
              "      <td>1695</td>\n",
              "      <td>...</td>\n",
              "      <td>8714</td>\n",
              "      <td>842</td>\n",
              "      <td>326</td>\n",
              "      <td>1459</td>\n",
              "      <td>2451</td>\n",
              "    </tr>\n",
              "    <tr>\n",
              "      <th>mean</th>\n",
              "      <td>NaN</td>\n",
              "      <td>NaN</td>\n",
              "      <td>4.193338</td>\n",
              "      <td>NaN</td>\n",
              "      <td>NaN</td>\n",
              "      <td>...</td>\n",
              "      <td>NaN</td>\n",
              "      <td>NaN</td>\n",
              "      <td>NaN</td>\n",
              "      <td>NaN</td>\n",
              "      <td>NaN</td>\n",
              "    </tr>\n",
              "    <tr>\n",
              "      <th>std</th>\n",
              "      <td>NaN</td>\n",
              "      <td>NaN</td>\n",
              "      <td>0.537431</td>\n",
              "      <td>NaN</td>\n",
              "      <td>NaN</td>\n",
              "      <td>...</td>\n",
              "      <td>NaN</td>\n",
              "      <td>NaN</td>\n",
              "      <td>NaN</td>\n",
              "      <td>NaN</td>\n",
              "      <td>NaN</td>\n",
              "    </tr>\n",
              "    <tr>\n",
              "      <th>min</th>\n",
              "      <td>NaN</td>\n",
              "      <td>NaN</td>\n",
              "      <td>1.000000</td>\n",
              "      <td>NaN</td>\n",
              "      <td>NaN</td>\n",
              "      <td>...</td>\n",
              "      <td>NaN</td>\n",
              "      <td>NaN</td>\n",
              "      <td>NaN</td>\n",
              "      <td>NaN</td>\n",
              "      <td>NaN</td>\n",
              "    </tr>\n",
              "    <tr>\n",
              "      <th>25%</th>\n",
              "      <td>NaN</td>\n",
              "      <td>NaN</td>\n",
              "      <td>4.000000</td>\n",
              "      <td>NaN</td>\n",
              "      <td>NaN</td>\n",
              "      <td>...</td>\n",
              "      <td>NaN</td>\n",
              "      <td>NaN</td>\n",
              "      <td>NaN</td>\n",
              "      <td>NaN</td>\n",
              "      <td>NaN</td>\n",
              "    </tr>\n",
              "    <tr>\n",
              "      <th>50%</th>\n",
              "      <td>NaN</td>\n",
              "      <td>NaN</td>\n",
              "      <td>4.300000</td>\n",
              "      <td>NaN</td>\n",
              "      <td>NaN</td>\n",
              "      <td>...</td>\n",
              "      <td>NaN</td>\n",
              "      <td>NaN</td>\n",
              "      <td>NaN</td>\n",
              "      <td>NaN</td>\n",
              "      <td>NaN</td>\n",
              "    </tr>\n",
              "    <tr>\n",
              "      <th>75%</th>\n",
              "      <td>NaN</td>\n",
              "      <td>NaN</td>\n",
              "      <td>4.500000</td>\n",
              "      <td>NaN</td>\n",
              "      <td>NaN</td>\n",
              "      <td>...</td>\n",
              "      <td>NaN</td>\n",
              "      <td>NaN</td>\n",
              "      <td>NaN</td>\n",
              "      <td>NaN</td>\n",
              "      <td>NaN</td>\n",
              "    </tr>\n",
              "    <tr>\n",
              "      <th>max</th>\n",
              "      <td>NaN</td>\n",
              "      <td>NaN</td>\n",
              "      <td>19.000000</td>\n",
              "      <td>NaN</td>\n",
              "      <td>NaN</td>\n",
              "      <td>...</td>\n",
              "      <td>NaN</td>\n",
              "      <td>NaN</td>\n",
              "      <td>NaN</td>\n",
              "      <td>NaN</td>\n",
              "      <td>NaN</td>\n",
              "    </tr>\n",
              "  </tbody>\n",
              "</table>\n",
              "<p>11 rows × 13 columns</p>\n",
              "</div>"
            ],
            "text/plain": [
              "           App Category       Rating Reviews                Size  ...  \\\n",
              "count    10841    10841  9367.000000   10841               10841  ...   \n",
              "unique    9660       34          NaN    6002                 462  ...   \n",
              "top     ROBLOX   FAMILY          NaN       0  Varies with device  ...   \n",
              "freq         9     1972          NaN     596                1695  ...   \n",
              "mean       NaN      NaN     4.193338     NaN                 NaN  ...   \n",
              "std        NaN      NaN     0.537431     NaN                 NaN  ...   \n",
              "min        NaN      NaN     1.000000     NaN                 NaN  ...   \n",
              "25%        NaN      NaN     4.000000     NaN                 NaN  ...   \n",
              "50%        NaN      NaN     4.300000     NaN                 NaN  ...   \n",
              "75%        NaN      NaN     4.500000     NaN                 NaN  ...   \n",
              "max        NaN      NaN    19.000000     NaN                 NaN  ...   \n",
              "\n",
              "       Content Rating Genres    Last Updated         Current Ver Android Ver  \n",
              "count           10840  10841           10841               10833       10838  \n",
              "unique              6    120            1378                2832          33  \n",
              "top          Everyone  Tools  August 3, 2018  Varies with device  4.1 and up  \n",
              "freq             8714    842             326                1459        2451  \n",
              "mean              NaN    NaN             NaN                 NaN         NaN  \n",
              "std               NaN    NaN             NaN                 NaN         NaN  \n",
              "min               NaN    NaN             NaN                 NaN         NaN  \n",
              "25%               NaN    NaN             NaN                 NaN         NaN  \n",
              "50%               NaN    NaN             NaN                 NaN         NaN  \n",
              "75%               NaN    NaN             NaN                 NaN         NaN  \n",
              "max               NaN    NaN             NaN                 NaN         NaN  \n",
              "\n",
              "[11 rows x 13 columns]"
            ]
          },
          "metadata": {},
          "execution_count": 121
        }
      ]
    },
    {
      "cell_type": "markdown",
      "metadata": {
        "id": "DE694CugIhfi"
      },
      "source": [
        "From the desciptive analysis of the rating column we can say that the average rating of the apps on play store is 4.19 where minimum rating is 1 and maximum 19 which seems quirk because the play store apps ratings are in the range of 1 to 5. We will check why it is like that."
      ]
    },
    {
      "cell_type": "code",
      "metadata": {
        "colab": {
          "base_uri": "https://localhost:8080/"
        },
        "id": "CWzVysvGIUQs",
        "outputId": "fc45bd56-cc4e-4777-c5e6-40d5ce716f8c"
      },
      "source": [
        "# Getting summary of the dataset\n",
        "apps_df.info()"
      ],
      "execution_count": 122,
      "outputs": [
        {
          "output_type": "stream",
          "name": "stdout",
          "text": [
            "<class 'pandas.core.frame.DataFrame'>\n",
            "RangeIndex: 10841 entries, 0 to 10840\n",
            "Data columns (total 13 columns):\n",
            " #   Column          Non-Null Count  Dtype  \n",
            "---  ------          --------------  -----  \n",
            " 0   App             10841 non-null  object \n",
            " 1   Category        10841 non-null  object \n",
            " 2   Rating          9367 non-null   float64\n",
            " 3   Reviews         10841 non-null  object \n",
            " 4   Size            10841 non-null  object \n",
            " 5   Installs        10841 non-null  object \n",
            " 6   Type            10840 non-null  object \n",
            " 7   Price           10841 non-null  object \n",
            " 8   Content Rating  10840 non-null  object \n",
            " 9   Genres          10841 non-null  object \n",
            " 10  Last Updated    10841 non-null  object \n",
            " 11  Current Ver     10833 non-null  object \n",
            " 12  Android Ver     10838 non-null  object \n",
            "dtypes: float64(1), object(12)\n",
            "memory usage: 1.1+ MB\n"
          ]
        }
      ]
    },
    {
      "cell_type": "markdown",
      "metadata": {
        "id": "FOy0UGVnQyUr"
      },
      "source": [
        "## Handling of missing values, duplicates and incorrect data."
      ]
    },
    {
      "cell_type": "code",
      "metadata": {
        "colab": {
          "base_uri": "https://localhost:8080/"
        },
        "id": "LO0LQ8zKSTsC",
        "outputId": "a93ea69b-9041-4532-8012-416de2fe8ac7"
      },
      "source": [
        "# Check for duplicate data\n",
        "apps_df.duplicated().any()"
      ],
      "execution_count": 123,
      "outputs": [
        {
          "output_type": "execute_result",
          "data": {
            "text/plain": [
              "True"
            ]
          },
          "metadata": {},
          "execution_count": 123
        }
      ]
    },
    {
      "cell_type": "code",
      "metadata": {
        "colab": {
          "base_uri": "https://localhost:8080/"
        },
        "id": "s3HsS6RWSkZW",
        "outputId": "735287b8-02c4-4d8e-8694-d356af15f90a"
      },
      "source": [
        "# Lets drop all the duplicated values.\n",
        "apps_df.drop_duplicates(inplace = True)\n",
        "print('Size of the dataset after dropping duplicates:' , apps_df.shape)"
      ],
      "execution_count": 124,
      "outputs": [
        {
          "output_type": "stream",
          "name": "stdout",
          "text": [
            "Size of the dataset after dropping duplicates: (10358, 13)\n"
          ]
        }
      ]
    },
    {
      "cell_type": "code",
      "metadata": {
        "colab": {
          "base_uri": "https://localhost:8080/",
          "height": 206
        },
        "id": "uscOkVyoLrIy",
        "outputId": "dc699621-32c9-402d-a44b-7e51d712cc95"
      },
      "source": [
        "# Count of the null values in the dataset\n",
        "def null_count(df):\n",
        "  cols_having_null = df.columns[df.isnull().any()]\n",
        "  data = df[cols_having_null].isnull().sum()\n",
        "  return pd.DataFrame(data, columns = ['Null value Count'])  \n",
        "\n",
        "null_count(apps_df)                "
      ],
      "execution_count": 125,
      "outputs": [
        {
          "output_type": "execute_result",
          "data": {
            "text/html": [
              "<div>\n",
              "<style scoped>\n",
              "    .dataframe tbody tr th:only-of-type {\n",
              "        vertical-align: middle;\n",
              "    }\n",
              "\n",
              "    .dataframe tbody tr th {\n",
              "        vertical-align: top;\n",
              "    }\n",
              "\n",
              "    .dataframe thead th {\n",
              "        text-align: right;\n",
              "    }\n",
              "</style>\n",
              "<table border=\"1\" class=\"dataframe\">\n",
              "  <thead>\n",
              "    <tr style=\"text-align: right;\">\n",
              "      <th></th>\n",
              "      <th>Null value Count</th>\n",
              "    </tr>\n",
              "  </thead>\n",
              "  <tbody>\n",
              "    <tr>\n",
              "      <th>Rating</th>\n",
              "      <td>1465</td>\n",
              "    </tr>\n",
              "    <tr>\n",
              "      <th>Type</th>\n",
              "      <td>1</td>\n",
              "    </tr>\n",
              "    <tr>\n",
              "      <th>Content Rating</th>\n",
              "      <td>1</td>\n",
              "    </tr>\n",
              "    <tr>\n",
              "      <th>Current Ver</th>\n",
              "      <td>8</td>\n",
              "    </tr>\n",
              "    <tr>\n",
              "      <th>Android Ver</th>\n",
              "      <td>3</td>\n",
              "    </tr>\n",
              "  </tbody>\n",
              "</table>\n",
              "</div>"
            ],
            "text/plain": [
              "                Null value Count\n",
              "Rating                      1465\n",
              "Type                           1\n",
              "Content Rating                 1\n",
              "Current Ver                    8\n",
              "Android Ver                    3"
            ]
          },
          "metadata": {},
          "execution_count": 125
        }
      ]
    },
    {
      "cell_type": "markdown",
      "metadata": {
        "id": "BMG98I4UMZLx"
      },
      "source": [
        "So we have 5 columns having null values out of them the Rating column has highest null values and other have few. We will deal with these null values by droping them or imputing them with mean , median or mode of respective columns."
      ]
    },
    {
      "cell_type": "markdown",
      "metadata": {
        "id": "6KN7_HNePX-H"
      },
      "source": [
        "1) Rating column:"
      ]
    },
    {
      "cell_type": "code",
      "metadata": {
        "colab": {
          "base_uri": "https://localhost:8080/",
          "height": 235
        },
        "id": "Fc1bw_vEMN5T",
        "outputId": "40de176d-2554-4633-a214-f9f46575b99a"
      },
      "source": [
        "apps_df[apps_df['Rating'].isnull()].head()"
      ],
      "execution_count": 126,
      "outputs": [
        {
          "output_type": "execute_result",
          "data": {
            "text/html": [
              "<div>\n",
              "<style scoped>\n",
              "    .dataframe tbody tr th:only-of-type {\n",
              "        vertical-align: middle;\n",
              "    }\n",
              "\n",
              "    .dataframe tbody tr th {\n",
              "        vertical-align: top;\n",
              "    }\n",
              "\n",
              "    .dataframe thead th {\n",
              "        text-align: right;\n",
              "    }\n",
              "</style>\n",
              "<table border=\"1\" class=\"dataframe\">\n",
              "  <thead>\n",
              "    <tr style=\"text-align: right;\">\n",
              "      <th></th>\n",
              "      <th>App</th>\n",
              "      <th>Category</th>\n",
              "      <th>Rating</th>\n",
              "      <th>Reviews</th>\n",
              "      <th>Size</th>\n",
              "      <th>...</th>\n",
              "      <th>Content Rating</th>\n",
              "      <th>Genres</th>\n",
              "      <th>Last Updated</th>\n",
              "      <th>Current Ver</th>\n",
              "      <th>Android Ver</th>\n",
              "    </tr>\n",
              "  </thead>\n",
              "  <tbody>\n",
              "    <tr>\n",
              "      <th>23</th>\n",
              "      <td>Mcqueen Coloring pages</td>\n",
              "      <td>ART_AND_DESIGN</td>\n",
              "      <td>NaN</td>\n",
              "      <td>61</td>\n",
              "      <td>7.0M</td>\n",
              "      <td>...</td>\n",
              "      <td>Everyone</td>\n",
              "      <td>Art &amp; Design;Action &amp; Adventure</td>\n",
              "      <td>March 7, 2018</td>\n",
              "      <td>1.0.0</td>\n",
              "      <td>4.1 and up</td>\n",
              "    </tr>\n",
              "    <tr>\n",
              "      <th>113</th>\n",
              "      <td>Wrinkles and rejuvenation</td>\n",
              "      <td>BEAUTY</td>\n",
              "      <td>NaN</td>\n",
              "      <td>182</td>\n",
              "      <td>5.7M</td>\n",
              "      <td>...</td>\n",
              "      <td>Everyone 10+</td>\n",
              "      <td>Beauty</td>\n",
              "      <td>September 20, 2017</td>\n",
              "      <td>8.0</td>\n",
              "      <td>3.0 and up</td>\n",
              "    </tr>\n",
              "    <tr>\n",
              "      <th>123</th>\n",
              "      <td>Manicure - nail design</td>\n",
              "      <td>BEAUTY</td>\n",
              "      <td>NaN</td>\n",
              "      <td>119</td>\n",
              "      <td>3.7M</td>\n",
              "      <td>...</td>\n",
              "      <td>Everyone</td>\n",
              "      <td>Beauty</td>\n",
              "      <td>July 23, 2018</td>\n",
              "      <td>1.3</td>\n",
              "      <td>4.1 and up</td>\n",
              "    </tr>\n",
              "    <tr>\n",
              "      <th>126</th>\n",
              "      <td>Skin Care and Natural Beauty</td>\n",
              "      <td>BEAUTY</td>\n",
              "      <td>NaN</td>\n",
              "      <td>654</td>\n",
              "      <td>7.4M</td>\n",
              "      <td>...</td>\n",
              "      <td>Teen</td>\n",
              "      <td>Beauty</td>\n",
              "      <td>July 17, 2018</td>\n",
              "      <td>1.15</td>\n",
              "      <td>4.1 and up</td>\n",
              "    </tr>\n",
              "    <tr>\n",
              "      <th>129</th>\n",
              "      <td>Secrets of beauty, youth and health</td>\n",
              "      <td>BEAUTY</td>\n",
              "      <td>NaN</td>\n",
              "      <td>77</td>\n",
              "      <td>2.9M</td>\n",
              "      <td>...</td>\n",
              "      <td>Mature 17+</td>\n",
              "      <td>Beauty</td>\n",
              "      <td>August 8, 2017</td>\n",
              "      <td>2.0</td>\n",
              "      <td>2.3 and up</td>\n",
              "    </tr>\n",
              "  </tbody>\n",
              "</table>\n",
              "<p>5 rows × 13 columns</p>\n",
              "</div>"
            ],
            "text/plain": [
              "                                     App        Category  Rating Reviews  \\\n",
              "23                Mcqueen Coloring pages  ART_AND_DESIGN     NaN      61   \n",
              "113            Wrinkles and rejuvenation          BEAUTY     NaN     182   \n",
              "123               Manicure - nail design          BEAUTY     NaN     119   \n",
              "126         Skin Care and Natural Beauty          BEAUTY     NaN     654   \n",
              "129  Secrets of beauty, youth and health          BEAUTY     NaN      77   \n",
              "\n",
              "     Size  ... Content Rating                           Genres  \\\n",
              "23   7.0M  ...       Everyone  Art & Design;Action & Adventure   \n",
              "113  5.7M  ...   Everyone 10+                           Beauty   \n",
              "123  3.7M  ...       Everyone                           Beauty   \n",
              "126  7.4M  ...           Teen                           Beauty   \n",
              "129  2.9M  ...     Mature 17+                           Beauty   \n",
              "\n",
              "           Last Updated Current Ver Android Ver  \n",
              "23        March 7, 2018       1.0.0  4.1 and up  \n",
              "113  September 20, 2017         8.0  3.0 and up  \n",
              "123       July 23, 2018         1.3  4.1 and up  \n",
              "126       July 17, 2018        1.15  4.1 and up  \n",
              "129      August 8, 2017         2.0  2.3 and up  \n",
              "\n",
              "[5 rows x 13 columns]"
            ]
          },
          "metadata": {},
          "execution_count": 126
        }
      ]
    },
    {
      "cell_type": "code",
      "metadata": {
        "colab": {
          "base_uri": "https://localhost:8080/",
          "height": 500
        },
        "id": "NDe0TkrAR1SI",
        "outputId": "80659e07-3aae-4203-a31d-20a0cca09bcc"
      },
      "source": [
        "# Distribution and box plot of rating column\n",
        "fig , ax = plt.subplots(1,2)\n",
        "sns.distplot(apps_df['Rating'] , color = 'y' , ax = ax[0])\n",
        "sns.boxplot( y = apps_df['Rating'] , ax = ax[1])\n",
        "fig.tight_layout(pad = 3)"
      ],
      "execution_count": 127,
      "outputs": [
        {
          "output_type": "stream",
          "name": "stderr",
          "text": [
            "/usr/local/lib/python3.7/dist-packages/seaborn/distributions.py:2619: FutureWarning: `distplot` is a deprecated function and will be removed in a future version. Please adapt your code to use either `displot` (a figure-level function with similar flexibility) or `histplot` (an axes-level function for histograms).\n",
            "  warnings.warn(msg, FutureWarning)\n"
          ]
        },
        {
          "output_type": "display_data",
          "data": {
            "image/png": "[encoded data removed]",
            "text/plain": [
              "<Figure size 1080x504 with 2 Axes>"
            ]
          },
          "metadata": {}
        }
      ]
    },
    {
      "cell_type": "code",
      "metadata": {
        "colab": {
          "base_uri": "https://localhost:8080/"
        },
        "id": "v6ZPjWBlUMqM",
        "outputId": "697b2a4c-579e-4527-c3d8-14cd07c702fa"
      },
      "source": [
        "# The skewness and kurtosis of Rating column\n",
        "print('skewness',apps_df.Rating.skew())\n",
        "print('kurtosis',apps_df.Rating.kurt())"
      ],
      "execution_count": 128,
      "outputs": [
        {
          "output_type": "stream",
          "name": "stdout",
          "text": [
            "skewness 0.6418611034487824\n",
            "kurtosis 65.42116716208271\n"
          ]
        }
      ]
    },
    {
      "cell_type": "markdown",
      "metadata": {
        "id": "KuId1NelbtLV"
      },
      "source": [
        "The distribution of the 'Rating' column is right skewed. This might be due to the currepted data that we inspected before. We will first deal with it.  "
      ]
    },
    {
      "cell_type": "code",
      "metadata": {
        "colab": {
          "base_uri": "https://localhost:8080/",
          "height": 110
        },
        "id": "PKaIJGYjZ8ky",
        "outputId": "87a8403e-3165-419f-8689-2b0dc54d6da8"
      },
      "source": [
        "apps_df[apps_df['Rating'] > 5]"
      ],
      "execution_count": 129,
      "outputs": [
        {
          "output_type": "execute_result",
          "data": {
            "text/html": [
              "<div>\n",
              "<style scoped>\n",
              "    .dataframe tbody tr th:only-of-type {\n",
              "        vertical-align: middle;\n",
              "    }\n",
              "\n",
              "    .dataframe tbody tr th {\n",
              "        vertical-align: top;\n",
              "    }\n",
              "\n",
              "    .dataframe thead th {\n",
              "        text-align: right;\n",
              "    }\n",
              "</style>\n",
              "<table border=\"1\" class=\"dataframe\">\n",
              "  <thead>\n",
              "    <tr style=\"text-align: right;\">\n",
              "      <th></th>\n",
              "      <th>App</th>\n",
              "      <th>Category</th>\n",
              "      <th>Rating</th>\n",
              "      <th>Reviews</th>\n",
              "      <th>Size</th>\n",
              "      <th>...</th>\n",
              "      <th>Content Rating</th>\n",
              "      <th>Genres</th>\n",
              "      <th>Last Updated</th>\n",
              "      <th>Current Ver</th>\n",
              "      <th>Android Ver</th>\n",
              "    </tr>\n",
              "  </thead>\n",
              "  <tbody>\n",
              "    <tr>\n",
              "      <th>10472</th>\n",
              "      <td>Life Made WI-Fi Touchscreen Photo Frame</td>\n",
              "      <td>1.9</td>\n",
              "      <td>19.0</td>\n",
              "      <td>3.0M</td>\n",
              "      <td>1,000+</td>\n",
              "      <td>...</td>\n",
              "      <td>NaN</td>\n",
              "      <td>February 11, 2018</td>\n",
              "      <td>1.0.19</td>\n",
              "      <td>4.0 and up</td>\n",
              "      <td>NaN</td>\n",
              "    </tr>\n",
              "  </tbody>\n",
              "</table>\n",
              "<p>1 rows × 13 columns</p>\n",
              "</div>"
            ],
            "text/plain": [
              "                                           App Category  Rating Reviews  \\\n",
              "10472  Life Made WI-Fi Touchscreen Photo Frame      1.9    19.0    3.0M   \n",
              "\n",
              "         Size  ... Content Rating             Genres Last Updated Current Ver  \\\n",
              "10472  1,000+  ...            NaN  February 11, 2018       1.0.19  4.0 and up   \n",
              "\n",
              "      Android Ver  \n",
              "10472         NaN  \n",
              "\n",
              "[1 rows x 13 columns]"
            ]
          },
          "metadata": {},
          "execution_count": 129
        }
      ]
    },
    {
      "cell_type": "markdown",
      "metadata": {
        "id": "nAi5cdodewtE"
      },
      "source": [
        "This entire row seems to be currupted its better to drop it entirely."
      ]
    },
    {
      "cell_type": "code",
      "metadata": {
        "colab": {
          "base_uri": "https://localhost:8080/"
        },
        "id": "TjLsfrvYdrB7",
        "outputId": "745e79d0-5d5f-4fae-c0bb-f3e5e3a58535"
      },
      "source": [
        "apps_df.drop(apps_df[apps_df.Rating > 5].index , inplace = True)\n",
        "apps_df[apps_df['Rating'] > 5]\n",
        "apps_df['Rating'].dtype"
      ],
      "execution_count": 130,
      "outputs": [
        {
          "output_type": "execute_result",
          "data": {
            "text/plain": [
              "dtype('float64')"
            ]
          },
          "metadata": {},
          "execution_count": 130
        }
      ]
    },
    {
      "cell_type": "code",
      "metadata": {
        "colab": {
          "base_uri": "https://localhost:8080/"
        },
        "id": "tKwxmYPpfcZS",
        "outputId": "ed755537-1047-4f5e-8463-6f59b5e903dd"
      },
      "source": [
        "# Lats check again the distribution of the Rating column\n",
        "print('skewness',apps_df.Rating.skew())\n",
        "print('kurtosis',apps_df.Rating.kurt())"
      ],
      "execution_count": 131,
      "outputs": [
        {
          "output_type": "stream",
          "name": "stdout",
          "text": [
            "skewness -1.8235171151017526\n",
            "kurtosis 5.597087273761689\n"
          ]
        }
      ]
    },
    {
      "cell_type": "code",
      "metadata": {
        "colab": {
          "base_uri": "https://localhost:8080/"
        },
        "id": "8uozvRX7a9Bu",
        "outputId": "d17f061f-b6e7-48d8-ebb5-5170a2c86406"
      },
      "source": [
        "apps_df['Rating'].median()"
      ],
      "execution_count": 132,
      "outputs": [
        {
          "output_type": "execute_result",
          "data": {
            "text/plain": [
              "4.3"
            ]
          },
          "metadata": {},
          "execution_count": 132
        }
      ]
    },
    {
      "cell_type": "markdown",
      "metadata": {
        "id": "eXIfIZ4LgLoA"
      },
      "source": [
        "Now it is left skewed so we will impute null values of the 'Rating' column with median value."
      ]
    },
    {
      "cell_type": "code",
      "metadata": {
        "colab": {
          "base_uri": "https://localhost:8080/",
          "height": 50
        },
        "id": "bN2EIG6XgJ-E",
        "outputId": "d7761581-bd8b-44d3-c1b6-2744a6aa455f"
      },
      "source": [
        "# Imputing the null values of rating column with median\n",
        "apps_df['Rating'].fillna(apps_df['Rating'].median(), inplace = True)\n",
        "null_count(apps_df)"
      ],
      "execution_count": 229,
      "outputs": [
        {
          "output_type": "execute_result",
          "data": {
            "text/html": [
              "<div>\n",
              "<style scoped>\n",
              "    .dataframe tbody tr th:only-of-type {\n",
              "        vertical-align: middle;\n",
              "    }\n",
              "\n",
              "    .dataframe tbody tr th {\n",
              "        vertical-align: top;\n",
              "    }\n",
              "\n",
              "    .dataframe thead th {\n",
              "        text-align: right;\n",
              "    }\n",
              "</style>\n",
              "<table border=\"1\" class=\"dataframe\">\n",
              "  <thead>\n",
              "    <tr style=\"text-align: right;\">\n",
              "      <th></th>\n",
              "      <th>Null value Count</th>\n",
              "    </tr>\n",
              "  </thead>\n",
              "  <tbody>\n",
              "  </tbody>\n",
              "</table>\n",
              "</div>"
            ],
            "text/plain": [
              "Empty DataFrame\n",
              "Columns: [Null value Count]\n",
              "Index: []"
            ]
          },
          "metadata": {},
          "execution_count": 229
        }
      ]
    },
    {
      "cell_type": "code",
      "metadata": {
        "id": "-Rc2zsXBa47-"
      },
      "source": [
        ""
      ],
      "execution_count": 133,
      "outputs": []
    },
    {
      "cell_type": "markdown",
      "metadata": {
        "id": "COLbO-GchKba"
      },
      "source": [
        "2) Type column:"
      ]
    },
    {
      "cell_type": "code",
      "metadata": {
        "colab": {
          "base_uri": "https://localhost:8080/"
        },
        "id": "GP3zLsyAmJku",
        "outputId": "bb37476d-25b8-4598-8f72-6f54f6378d4d"
      },
      "source": [
        "# Distinct value count of Type column\n",
        "apps_df['Type'].value_counts()"
      ],
      "execution_count": 134,
      "outputs": [
        {
          "output_type": "execute_result",
          "data": {
            "text/plain": [
              "Free    9591\n",
              "Paid     765\n",
              "Name: Type, dtype: int64"
            ]
          },
          "metadata": {},
          "execution_count": 134
        }
      ]
    },
    {
      "cell_type": "markdown",
      "metadata": {
        "id": "qqxE7LnHl27H"
      },
      "source": [
        "The type column has only two unique values: Free and Paid.\n",
        "\n",
        "If we check the price column for the null value of type column we will get the idea of what should be the value of the Type column. "
      ]
    },
    {
      "cell_type": "code",
      "metadata": {
        "colab": {
          "base_uri": "https://localhost:8080/",
          "height": 81
        },
        "id": "DPrdw6Tsg40L",
        "outputId": "f7ed3de0-5f23-4a6f-9557-62767df36607"
      },
      "source": [
        "apps_df[apps_df['Type'].isnull()][['Type' , 'Price']]"
      ],
      "execution_count": 135,
      "outputs": [
        {
          "output_type": "execute_result",
          "data": {
            "text/html": [
              "<div>\n",
              "<style scoped>\n",
              "    .dataframe tbody tr th:only-of-type {\n",
              "        vertical-align: middle;\n",
              "    }\n",
              "\n",
              "    .dataframe tbody tr th {\n",
              "        vertical-align: top;\n",
              "    }\n",
              "\n",
              "    .dataframe thead th {\n",
              "        text-align: right;\n",
              "    }\n",
              "</style>\n",
              "<table border=\"1\" class=\"dataframe\">\n",
              "  <thead>\n",
              "    <tr style=\"text-align: right;\">\n",
              "      <th></th>\n",
              "      <th>Type</th>\n",
              "      <th>Price</th>\n",
              "    </tr>\n",
              "  </thead>\n",
              "  <tbody>\n",
              "    <tr>\n",
              "      <th>9148</th>\n",
              "      <td>NaN</td>\n",
              "      <td>0</td>\n",
              "    </tr>\n",
              "  </tbody>\n",
              "</table>\n",
              "</div>"
            ],
            "text/plain": [
              "     Type Price\n",
              "9148  NaN     0"
            ]
          },
          "metadata": {},
          "execution_count": 135
        }
      ]
    },
    {
      "cell_type": "markdown",
      "metadata": {
        "id": "VI_D5auSpgr7"
      },
      "source": [
        "The Price values is 0 for Type values nan so we will impute 'Free' inplace of null."
      ]
    },
    {
      "cell_type": "code",
      "metadata": {
        "id": "m89UM8R7hT6X",
        "colab": {
          "base_uri": "https://localhost:8080/",
          "height": 112
        },
        "outputId": "edbb8d61-9ca3-4817-f197-538d8489f395"
      },
      "source": [
        "# Imputing the value in type column\n",
        "apps_df['Type'].fillna('Free' , inplace = True)\n",
        "null_count(apps_df)"
      ],
      "execution_count": 136,
      "outputs": [
        {
          "output_type": "execute_result",
          "data": {
            "text/html": [
              "<div>\n",
              "<style scoped>\n",
              "    .dataframe tbody tr th:only-of-type {\n",
              "        vertical-align: middle;\n",
              "    }\n",
              "\n",
              "    .dataframe tbody tr th {\n",
              "        vertical-align: top;\n",
              "    }\n",
              "\n",
              "    .dataframe thead th {\n",
              "        text-align: right;\n",
              "    }\n",
              "</style>\n",
              "<table border=\"1\" class=\"dataframe\">\n",
              "  <thead>\n",
              "    <tr style=\"text-align: right;\">\n",
              "      <th></th>\n",
              "      <th>Null value Count</th>\n",
              "    </tr>\n",
              "  </thead>\n",
              "  <tbody>\n",
              "    <tr>\n",
              "      <th>Current Ver</th>\n",
              "      <td>8</td>\n",
              "    </tr>\n",
              "    <tr>\n",
              "      <th>Android Ver</th>\n",
              "      <td>2</td>\n",
              "    </tr>\n",
              "  </tbody>\n",
              "</table>\n",
              "</div>"
            ],
            "text/plain": [
              "             Null value Count\n",
              "Current Ver                 8\n",
              "Android Ver                 2"
            ]
          },
          "metadata": {},
          "execution_count": 136
        }
      ]
    },
    {
      "cell_type": "markdown",
      "metadata": {
        "id": "FAWre-ynqNwA"
      },
      "source": [
        "3)Current version and Android version:"
      ]
    },
    {
      "cell_type": "code",
      "metadata": {
        "colab": {
          "base_uri": "https://localhost:8080/"
        },
        "id": "DX2EdkcWqiT-",
        "outputId": "10f06459-8f31-41cf-e97c-5c6efacb1b8c"
      },
      "source": [
        "# Check the current ver and android ver null values\n",
        "print(apps_df[apps_df['Current Ver'].isnull() | apps_df['Android Ver'].isnull()][['Current Ver' , 'Android Ver']])\n",
        "print('\\n')\n",
        "print('The Total no of rows Current ver and Android ver columns \\\n",
        "have null values:',len(apps_df[apps_df['Current Ver'].isnull() | apps_df['Android Ver'].isnull()][['Current Ver' , 'Android Ver']]))\n"
      ],
      "execution_count": 137,
      "outputs": [
        {
          "output_type": "stream",
          "name": "stdout",
          "text": [
            "      Current Ver Android Ver\n",
            "15            NaN  4.2 and up\n",
            "1553          NaN  1.5 and up\n",
            "4453          4.4         NaN\n",
            "4490          1.1         NaN\n",
            "6322          NaN  4.0 and up\n",
            "6803          NaN  1.6 and up\n",
            "7333          NaN  4.0 and up\n",
            "7407          NaN  2.3 and up\n",
            "7730          NaN  2.0 and up\n",
            "10342         NaN  3.0 and up\n",
            "\n",
            "\n",
            "The Total no of rows Current ver and Android ver columns have null values: 10\n"
          ]
        }
      ]
    },
    {
      "cell_type": "markdown",
      "metadata": {
        "id": "AqrbyudzM_xp"
      },
      "source": [
        "Both Current ver and Android ver columns have total 10 rows consisting of null values. dropping all this rows won't affect our dataset. "
      ]
    },
    {
      "cell_type": "code",
      "metadata": {
        "colab": {
          "base_uri": "https://localhost:8080/"
        },
        "id": "dhwwMB_Yqbmm",
        "outputId": "6fc0a857-1771-4672-e1a5-d8967a9c0e8f"
      },
      "source": [
        "# Dropping the rows consisting of null values in android ver and current ver columns\n",
        "indices_to_drop = apps_df[apps_df['Current Ver'].isnull() | apps_df['Android Ver'].isnull()].index\n",
        "apps_df.drop(indices_to_drop , inplace = True)\n",
        "print(null_count(apps_df))"
      ],
      "execution_count": 138,
      "outputs": [
        {
          "output_type": "stream",
          "name": "stdout",
          "text": [
            "Empty DataFrame\n",
            "Columns: [Null value Count]\n",
            "Index: []\n"
          ]
        }
      ]
    },
    {
      "cell_type": "markdown",
      "metadata": {
        "id": "vxHOx3Ao44Kd"
      },
      "source": [
        "We now have succssfully cleaned the missing and incorrect data in the apps_df now we would do the same for our second dataset of user reviews."
      ]
    },
    {
      "cell_type": "code",
      "metadata": {
        "colab": {
          "base_uri": "https://localhost:8080/"
        },
        "id": "9PriSasC42HH",
        "outputId": "22e691c6-7b7e-4079-8914-b14886ce2e85"
      },
      "source": [
        "# Load the dataset\n",
        "review_df = pd.read_csv('/content/drive/MyDrive/Copy of User Reviews (1).csv')\n",
        "print(f'The dataset has {review_df.shape[0]} rows and {review_df.shape[1]} columns')"
      ],
      "execution_count": 139,
      "outputs": [
        {
          "output_type": "stream",
          "name": "stdout",
          "text": [
            "The dataset has 64295 rows and 5 columns\n"
          ]
        }
      ]
    },
    {
      "cell_type": "code",
      "metadata": {
        "colab": {
          "base_uri": "https://localhost:8080/",
          "height": 206
        },
        "id": "kZDAd7_e42JK",
        "outputId": "bc57a091-16a2-4b9d-8c87-3ebf49fbca21"
      },
      "source": [
        "#Checking thee top 5 rows\n",
        "review_df.head()"
      ],
      "execution_count": 140,
      "outputs": [
        {
          "output_type": "execute_result",
          "data": {
            "text/html": [
              "<div>\n",
              "<style scoped>\n",
              "    .dataframe tbody tr th:only-of-type {\n",
              "        vertical-align: middle;\n",
              "    }\n",
              "\n",
              "    .dataframe tbody tr th {\n",
              "        vertical-align: top;\n",
              "    }\n",
              "\n",
              "    .dataframe thead th {\n",
              "        text-align: right;\n",
              "    }\n",
              "</style>\n",
              "<table border=\"1\" class=\"dataframe\">\n",
              "  <thead>\n",
              "    <tr style=\"text-align: right;\">\n",
              "      <th></th>\n",
              "      <th>App</th>\n",
              "      <th>Translated_Review</th>\n",
              "      <th>Sentiment</th>\n",
              "      <th>Sentiment_Polarity</th>\n",
              "      <th>Sentiment_Subjectivity</th>\n",
              "    </tr>\n",
              "  </thead>\n",
              "  <tbody>\n",
              "    <tr>\n",
              "      <th>0</th>\n",
              "      <td>10 Best Foods for You</td>\n",
              "      <td>I like eat delicious food. That's I'm cooking ...</td>\n",
              "      <td>Positive</td>\n",
              "      <td>1.00</td>\n",
              "      <td>0.533333</td>\n",
              "    </tr>\n",
              "    <tr>\n",
              "      <th>1</th>\n",
              "      <td>10 Best Foods for You</td>\n",
              "      <td>This help eating healthy exercise regular basis</td>\n",
              "      <td>Positive</td>\n",
              "      <td>0.25</td>\n",
              "      <td>0.288462</td>\n",
              "    </tr>\n",
              "    <tr>\n",
              "      <th>2</th>\n",
              "      <td>10 Best Foods for You</td>\n",
              "      <td>NaN</td>\n",
              "      <td>NaN</td>\n",
              "      <td>NaN</td>\n",
              "      <td>NaN</td>\n",
              "    </tr>\n",
              "    <tr>\n",
              "      <th>3</th>\n",
              "      <td>10 Best Foods for You</td>\n",
              "      <td>Works great especially going grocery store</td>\n",
              "      <td>Positive</td>\n",
              "      <td>0.40</td>\n",
              "      <td>0.875000</td>\n",
              "    </tr>\n",
              "    <tr>\n",
              "      <th>4</th>\n",
              "      <td>10 Best Foods for You</td>\n",
              "      <td>Best idea us</td>\n",
              "      <td>Positive</td>\n",
              "      <td>1.00</td>\n",
              "      <td>0.300000</td>\n",
              "    </tr>\n",
              "  </tbody>\n",
              "</table>\n",
              "</div>"
            ],
            "text/plain": [
              "                     App                                  Translated_Review  \\\n",
              "0  10 Best Foods for You  I like eat delicious food. That's I'm cooking ...   \n",
              "1  10 Best Foods for You    This help eating healthy exercise regular basis   \n",
              "2  10 Best Foods for You                                                NaN   \n",
              "3  10 Best Foods for You         Works great especially going grocery store   \n",
              "4  10 Best Foods for You                                       Best idea us   \n",
              "\n",
              "  Sentiment  Sentiment_Polarity  Sentiment_Subjectivity  \n",
              "0  Positive                1.00                0.533333  \n",
              "1  Positive                0.25                0.288462  \n",
              "2       NaN                 NaN                     NaN  \n",
              "3  Positive                0.40                0.875000  \n",
              "4  Positive                1.00                0.300000  "
            ]
          },
          "metadata": {},
          "execution_count": 140
        }
      ]
    },
    {
      "cell_type": "code",
      "metadata": {
        "colab": {
          "base_uri": "https://localhost:8080/",
          "height": 394
        },
        "id": "b7dttEHJ42NK",
        "outputId": "1c11d7ef-08d8-4751-ec39-bb0ce14d3a46"
      },
      "source": [
        "# Deciption of the dataset\n",
        "review_df.describe(include = 'all')"
      ],
      "execution_count": 141,
      "outputs": [
        {
          "output_type": "execute_result",
          "data": {
            "text/html": [
              "<div>\n",
              "<style scoped>\n",
              "    .dataframe tbody tr th:only-of-type {\n",
              "        vertical-align: middle;\n",
              "    }\n",
              "\n",
              "    .dataframe tbody tr th {\n",
              "        vertical-align: top;\n",
              "    }\n",
              "\n",
              "    .dataframe thead th {\n",
              "        text-align: right;\n",
              "    }\n",
              "</style>\n",
              "<table border=\"1\" class=\"dataframe\">\n",
              "  <thead>\n",
              "    <tr style=\"text-align: right;\">\n",
              "      <th></th>\n",
              "      <th>App</th>\n",
              "      <th>Translated_Review</th>\n",
              "      <th>Sentiment</th>\n",
              "      <th>Sentiment_Polarity</th>\n",
              "      <th>Sentiment_Subjectivity</th>\n",
              "    </tr>\n",
              "  </thead>\n",
              "  <tbody>\n",
              "    <tr>\n",
              "      <th>count</th>\n",
              "      <td>64295</td>\n",
              "      <td>37427</td>\n",
              "      <td>37432</td>\n",
              "      <td>37432.000000</td>\n",
              "      <td>37432.000000</td>\n",
              "    </tr>\n",
              "    <tr>\n",
              "      <th>unique</th>\n",
              "      <td>1074</td>\n",
              "      <td>27994</td>\n",
              "      <td>3</td>\n",
              "      <td>NaN</td>\n",
              "      <td>NaN</td>\n",
              "    </tr>\n",
              "    <tr>\n",
              "      <th>top</th>\n",
              "      <td>CBS Sports App - Scores, News, Stats &amp; Watch Live</td>\n",
              "      <td>Good</td>\n",
              "      <td>Positive</td>\n",
              "      <td>NaN</td>\n",
              "      <td>NaN</td>\n",
              "    </tr>\n",
              "    <tr>\n",
              "      <th>freq</th>\n",
              "      <td>320</td>\n",
              "      <td>247</td>\n",
              "      <td>23998</td>\n",
              "      <td>NaN</td>\n",
              "      <td>NaN</td>\n",
              "    </tr>\n",
              "    <tr>\n",
              "      <th>mean</th>\n",
              "      <td>NaN</td>\n",
              "      <td>NaN</td>\n",
              "      <td>NaN</td>\n",
              "      <td>0.182146</td>\n",
              "      <td>0.492704</td>\n",
              "    </tr>\n",
              "    <tr>\n",
              "      <th>std</th>\n",
              "      <td>NaN</td>\n",
              "      <td>NaN</td>\n",
              "      <td>NaN</td>\n",
              "      <td>0.351301</td>\n",
              "      <td>0.259949</td>\n",
              "    </tr>\n",
              "    <tr>\n",
              "      <th>min</th>\n",
              "      <td>NaN</td>\n",
              "      <td>NaN</td>\n",
              "      <td>NaN</td>\n",
              "      <td>-1.000000</td>\n",
              "      <td>0.000000</td>\n",
              "    </tr>\n",
              "    <tr>\n",
              "      <th>25%</th>\n",
              "      <td>NaN</td>\n",
              "      <td>NaN</td>\n",
              "      <td>NaN</td>\n",
              "      <td>0.000000</td>\n",
              "      <td>0.357143</td>\n",
              "    </tr>\n",
              "    <tr>\n",
              "      <th>50%</th>\n",
              "      <td>NaN</td>\n",
              "      <td>NaN</td>\n",
              "      <td>NaN</td>\n",
              "      <td>0.150000</td>\n",
              "      <td>0.514286</td>\n",
              "    </tr>\n",
              "    <tr>\n",
              "      <th>75%</th>\n",
              "      <td>NaN</td>\n",
              "      <td>NaN</td>\n",
              "      <td>NaN</td>\n",
              "      <td>0.400000</td>\n",
              "      <td>0.650000</td>\n",
              "    </tr>\n",
              "    <tr>\n",
              "      <th>max</th>\n",
              "      <td>NaN</td>\n",
              "      <td>NaN</td>\n",
              "      <td>NaN</td>\n",
              "      <td>1.000000</td>\n",
              "      <td>1.000000</td>\n",
              "    </tr>\n",
              "  </tbody>\n",
              "</table>\n",
              "</div>"
            ],
            "text/plain": [
              "                                                      App Translated_Review  \\\n",
              "count                                               64295             37427   \n",
              "unique                                               1074             27994   \n",
              "top     CBS Sports App - Scores, News, Stats & Watch Live              Good   \n",
              "freq                                                  320               247   \n",
              "mean                                                  NaN               NaN   \n",
              "std                                                   NaN               NaN   \n",
              "min                                                   NaN               NaN   \n",
              "25%                                                   NaN               NaN   \n",
              "50%                                                   NaN               NaN   \n",
              "75%                                                   NaN               NaN   \n",
              "max                                                   NaN               NaN   \n",
              "\n",
              "       Sentiment  Sentiment_Polarity  Sentiment_Subjectivity  \n",
              "count      37432        37432.000000            37432.000000  \n",
              "unique         3                 NaN                     NaN  \n",
              "top     Positive                 NaN                     NaN  \n",
              "freq       23998                 NaN                     NaN  \n",
              "mean         NaN            0.182146                0.492704  \n",
              "std          NaN            0.351301                0.259949  \n",
              "min          NaN           -1.000000                0.000000  \n",
              "25%          NaN            0.000000                0.357143  \n",
              "50%          NaN            0.150000                0.514286  \n",
              "75%          NaN            0.400000                0.650000  \n",
              "max          NaN            1.000000                1.000000  "
            ]
          },
          "metadata": {},
          "execution_count": 141
        }
      ]
    },
    {
      "cell_type": "code",
      "metadata": {
        "colab": {
          "base_uri": "https://localhost:8080/"
        },
        "id": "j_NJyjG942PA",
        "outputId": "812ef00c-9170-4ca2-c046-af7036e35610"
      },
      "source": [
        "# Removing all the duplactes \n",
        "review_df.drop_duplicates(inplace = True)\n",
        "review_df.shape"
      ],
      "execution_count": 142,
      "outputs": [
        {
          "output_type": "execute_result",
          "data": {
            "text/plain": [
              "(30679, 5)"
            ]
          },
          "metadata": {},
          "execution_count": 142
        }
      ]
    },
    {
      "cell_type": "code",
      "metadata": {
        "colab": {
          "base_uri": "https://localhost:8080/"
        },
        "id": "d3I5cmv242S1",
        "outputId": "3d7e282f-1409-4b27-c4f3-a6d1302cb969"
      },
      "source": [
        "review_df.info()"
      ],
      "execution_count": 143,
      "outputs": [
        {
          "output_type": "stream",
          "name": "stdout",
          "text": [
            "<class 'pandas.core.frame.DataFrame'>\n",
            "Int64Index: 30679 entries, 0 to 64236\n",
            "Data columns (total 5 columns):\n",
            " #   Column                  Non-Null Count  Dtype  \n",
            "---  ------                  --------------  -----  \n",
            " 0   App                     30679 non-null  object \n",
            " 1   Translated_Review       29692 non-null  object \n",
            " 2   Sentiment               29697 non-null  object \n",
            " 3   Sentiment_Polarity      29697 non-null  float64\n",
            " 4   Sentiment_Subjectivity  29697 non-null  float64\n",
            "dtypes: float64(2), object(3)\n",
            "memory usage: 1.4+ MB\n"
          ]
        }
      ]
    },
    {
      "cell_type": "code",
      "metadata": {
        "colab": {
          "base_uri": "https://localhost:8080/"
        },
        "id": "e9Mq6aaV42U-",
        "outputId": "f0476520-ba56-422b-a9e6-db95df5553af"
      },
      "source": [
        "# Null values count report\n",
        "print(null_count(review_df))"
      ],
      "execution_count": 144,
      "outputs": [
        {
          "output_type": "stream",
          "name": "stdout",
          "text": [
            "                        Null value Count\n",
            "Translated_Review                    987\n",
            "Sentiment                            982\n",
            "Sentiment_Polarity                   982\n",
            "Sentiment_Subjectivity               982\n"
          ]
        }
      ]
    },
    {
      "cell_type": "code",
      "metadata": {
        "colab": {
          "base_uri": "https://localhost:8080/",
          "height": 423
        },
        "id": "gSkze-m-42YL",
        "outputId": "ad761bb7-fff2-4577-e832-938e990656ca"
      },
      "source": [
        "null_df = review_df[review_df['Translated_Review'].isnull() & review_df['Sentiment'].isnull() & \\\n",
        "          review_df['Sentiment_Polarity'].isnull() & review_df['Sentiment_Subjectivity'].isnull()]\n",
        "null_df"
      ],
      "execution_count": 145,
      "outputs": [
        {
          "output_type": "execute_result",
          "data": {
            "text/html": [
              "<div>\n",
              "<style scoped>\n",
              "    .dataframe tbody tr th:only-of-type {\n",
              "        vertical-align: middle;\n",
              "    }\n",
              "\n",
              "    .dataframe tbody tr th {\n",
              "        vertical-align: top;\n",
              "    }\n",
              "\n",
              "    .dataframe thead th {\n",
              "        text-align: right;\n",
              "    }\n",
              "</style>\n",
              "<table border=\"1\" class=\"dataframe\">\n",
              "  <thead>\n",
              "    <tr style=\"text-align: right;\">\n",
              "      <th></th>\n",
              "      <th>App</th>\n",
              "      <th>Translated_Review</th>\n",
              "      <th>Sentiment</th>\n",
              "      <th>Sentiment_Polarity</th>\n",
              "      <th>Sentiment_Subjectivity</th>\n",
              "    </tr>\n",
              "  </thead>\n",
              "  <tbody>\n",
              "    <tr>\n",
              "      <th>2</th>\n",
              "      <td>10 Best Foods for You</td>\n",
              "      <td>NaN</td>\n",
              "      <td>NaN</td>\n",
              "      <td>NaN</td>\n",
              "      <td>NaN</td>\n",
              "    </tr>\n",
              "    <tr>\n",
              "      <th>362</th>\n",
              "      <td>1LINE – One Line with One Touch</td>\n",
              "      <td>NaN</td>\n",
              "      <td>NaN</td>\n",
              "      <td>NaN</td>\n",
              "      <td>NaN</td>\n",
              "    </tr>\n",
              "    <tr>\n",
              "      <th>405</th>\n",
              "      <td>2018Emoji Keyboard 😂 Emoticons Lite -sticker&amp;gif</td>\n",
              "      <td>NaN</td>\n",
              "      <td>NaN</td>\n",
              "      <td>NaN</td>\n",
              "      <td>NaN</td>\n",
              "    </tr>\n",
              "    <tr>\n",
              "      <th>539</th>\n",
              "      <td>2Date Dating App, Love and matching</td>\n",
              "      <td>NaN</td>\n",
              "      <td>NaN</td>\n",
              "      <td>NaN</td>\n",
              "      <td>NaN</td>\n",
              "    </tr>\n",
              "    <tr>\n",
              "      <th>628</th>\n",
              "      <td>2RedBeans</td>\n",
              "      <td>NaN</td>\n",
              "      <td>NaN</td>\n",
              "      <td>NaN</td>\n",
              "      <td>NaN</td>\n",
              "    </tr>\n",
              "    <tr>\n",
              "      <th>...</th>\n",
              "      <td>...</td>\n",
              "      <td>...</td>\n",
              "      <td>...</td>\n",
              "      <td>...</td>\n",
              "      <td>...</td>\n",
              "    </tr>\n",
              "    <tr>\n",
              "      <th>64082</th>\n",
              "      <td>Hotspot Shield Free VPN Proxy &amp; Wi-Fi Security</td>\n",
              "      <td>NaN</td>\n",
              "      <td>NaN</td>\n",
              "      <td>NaN</td>\n",
              "      <td>NaN</td>\n",
              "    </tr>\n",
              "    <tr>\n",
              "      <th>64119</th>\n",
              "      <td>Hotstar</td>\n",
              "      <td>NaN</td>\n",
              "      <td>NaN</td>\n",
              "      <td>NaN</td>\n",
              "      <td>NaN</td>\n",
              "    </tr>\n",
              "    <tr>\n",
              "      <th>64156</th>\n",
              "      <td>Hotwire Hotel &amp; Car Rental App</td>\n",
              "      <td>NaN</td>\n",
              "      <td>NaN</td>\n",
              "      <td>NaN</td>\n",
              "      <td>NaN</td>\n",
              "    </tr>\n",
              "    <tr>\n",
              "      <th>64202</th>\n",
              "      <td>Housing-Real Estate &amp; Property</td>\n",
              "      <td>NaN</td>\n",
              "      <td>NaN</td>\n",
              "      <td>NaN</td>\n",
              "      <td>NaN</td>\n",
              "    </tr>\n",
              "    <tr>\n",
              "      <th>64236</th>\n",
              "      <td>Houzz Interior Design Ideas</td>\n",
              "      <td>NaN</td>\n",
              "      <td>NaN</td>\n",
              "      <td>NaN</td>\n",
              "      <td>NaN</td>\n",
              "    </tr>\n",
              "  </tbody>\n",
              "</table>\n",
              "<p>982 rows × 5 columns</p>\n",
              "</div>"
            ],
            "text/plain": [
              "                                                    App Translated_Review  \\\n",
              "2                                 10 Best Foods for You               NaN   \n",
              "362                     1LINE – One Line with One Touch               NaN   \n",
              "405    2018Emoji Keyboard 😂 Emoticons Lite -sticker&gif               NaN   \n",
              "539                 2Date Dating App, Love and matching               NaN   \n",
              "628                                           2RedBeans               NaN   \n",
              "...                                                 ...               ...   \n",
              "64082    Hotspot Shield Free VPN Proxy & Wi-Fi Security               NaN   \n",
              "64119                                           Hotstar               NaN   \n",
              "64156                    Hotwire Hotel & Car Rental App               NaN   \n",
              "64202                    Housing-Real Estate & Property               NaN   \n",
              "64236                       Houzz Interior Design Ideas               NaN   \n",
              "\n",
              "      Sentiment  Sentiment_Polarity  Sentiment_Subjectivity  \n",
              "2           NaN                 NaN                     NaN  \n",
              "362         NaN                 NaN                     NaN  \n",
              "405         NaN                 NaN                     NaN  \n",
              "539         NaN                 NaN                     NaN  \n",
              "628         NaN                 NaN                     NaN  \n",
              "...         ...                 ...                     ...  \n",
              "64082       NaN                 NaN                     NaN  \n",
              "64119       NaN                 NaN                     NaN  \n",
              "64156       NaN                 NaN                     NaN  \n",
              "64202       NaN                 NaN                     NaN  \n",
              "64236       NaN                 NaN                     NaN  \n",
              "\n",
              "[982 rows x 5 columns]"
            ]
          },
          "metadata": {},
          "execution_count": 145
        }
      ]
    },
    {
      "cell_type": "markdown",
      "metadata": {
        "id": "Yrn8AJ4g-fLA"
      },
      "source": [
        "We won't get much of the information from this so we will drop it altogeter."
      ]
    },
    {
      "cell_type": "code",
      "metadata": {
        "colab": {
          "base_uri": "https://localhost:8080/"
        },
        "id": "MC_lIG8142aI",
        "outputId": "4a0078bb-95e4-4aa3-a53f-c03addbfe465"
      },
      "source": [
        "review_df.drop(null_df.index , inplace =True)\n",
        "review_df.reset_index(inplace = True)\n",
        "review_df.shape"
      ],
      "execution_count": 146,
      "outputs": [
        {
          "output_type": "execute_result",
          "data": {
            "text/plain": [
              "(29697, 6)"
            ]
          },
          "metadata": {},
          "execution_count": 146
        }
      ]
    },
    {
      "cell_type": "code",
      "metadata": {
        "colab": {
          "base_uri": "https://localhost:8080/"
        },
        "id": "LPiogqKf42d_",
        "outputId": "b28e7804-3815-4fc3-e725-972fa9f50ce7"
      },
      "source": [
        "print(null_count(review_df))"
      ],
      "execution_count": 147,
      "outputs": [
        {
          "output_type": "stream",
          "name": "stdout",
          "text": [
            "                   Null value Count\n",
            "Translated_Review                 5\n"
          ]
        }
      ]
    },
    {
      "cell_type": "markdown",
      "metadata": {
        "id": "KCMawN5C_sTj"
      },
      "source": [
        "We have only a single column left having 5 null values."
      ]
    },
    {
      "cell_type": "code",
      "metadata": {
        "colab": {
          "base_uri": "https://localhost:8080/",
          "height": 206
        },
        "id": "shrb6aN342fu",
        "outputId": "04ab6be9-63d6-4826-f260-fcfb14c3acb5"
      },
      "source": [
        "review_df[review_df['Translated_Review'].isnull()]"
      ],
      "execution_count": 148,
      "outputs": [
        {
          "output_type": "execute_result",
          "data": {
            "text/html": [
              "<div>\n",
              "<style scoped>\n",
              "    .dataframe tbody tr th:only-of-type {\n",
              "        vertical-align: middle;\n",
              "    }\n",
              "\n",
              "    .dataframe tbody tr th {\n",
              "        vertical-align: top;\n",
              "    }\n",
              "\n",
              "    .dataframe thead th {\n",
              "        text-align: right;\n",
              "    }\n",
              "</style>\n",
              "<table border=\"1\" class=\"dataframe\">\n",
              "  <thead>\n",
              "    <tr style=\"text-align: right;\">\n",
              "      <th></th>\n",
              "      <th>index</th>\n",
              "      <th>App</th>\n",
              "      <th>Translated_Review</th>\n",
              "      <th>Sentiment</th>\n",
              "      <th>Sentiment_Polarity</th>\n",
              "      <th>Sentiment_Subjectivity</th>\n",
              "    </tr>\n",
              "  </thead>\n",
              "  <tbody>\n",
              "    <tr>\n",
              "      <th>159</th>\n",
              "      <td>268</td>\n",
              "      <td>11st</td>\n",
              "      <td>NaN</td>\n",
              "      <td>Neutral</td>\n",
              "      <td>0.0</td>\n",
              "      <td>0.0</td>\n",
              "    </tr>\n",
              "    <tr>\n",
              "      <th>8149</th>\n",
              "      <td>15048</td>\n",
              "      <td>Birds Sounds Ringtones &amp; Wallpapers</td>\n",
              "      <td>NaN</td>\n",
              "      <td>Neutral</td>\n",
              "      <td>0.0</td>\n",
              "      <td>0.0</td>\n",
              "    </tr>\n",
              "    <tr>\n",
              "      <th>10981</th>\n",
              "      <td>22092</td>\n",
              "      <td>Calorie Counter - MyFitnessPal</td>\n",
              "      <td>NaN</td>\n",
              "      <td>Neutral</td>\n",
              "      <td>0.0</td>\n",
              "      <td>0.0</td>\n",
              "    </tr>\n",
              "    <tr>\n",
              "      <th>14799</th>\n",
              "      <td>31623</td>\n",
              "      <td>DC Comics</td>\n",
              "      <td>NaN</td>\n",
              "      <td>Neutral</td>\n",
              "      <td>0.0</td>\n",
              "      <td>0.0</td>\n",
              "    </tr>\n",
              "    <tr>\n",
              "      <th>24619</th>\n",
              "      <td>52500</td>\n",
              "      <td>Garden Photo Frames - Garden Photo Editor</td>\n",
              "      <td>NaN</td>\n",
              "      <td>Neutral</td>\n",
              "      <td>0.0</td>\n",
              "      <td>0.0</td>\n",
              "    </tr>\n",
              "  </tbody>\n",
              "</table>\n",
              "</div>"
            ],
            "text/plain": [
              "       index                                        App Translated_Review  \\\n",
              "159      268                                       11st               NaN   \n",
              "8149   15048        Birds Sounds Ringtones & Wallpapers               NaN   \n",
              "10981  22092             Calorie Counter - MyFitnessPal               NaN   \n",
              "14799  31623                                  DC Comics               NaN   \n",
              "24619  52500  Garden Photo Frames - Garden Photo Editor               NaN   \n",
              "\n",
              "      Sentiment  Sentiment_Polarity  Sentiment_Subjectivity  \n",
              "159     Neutral                 0.0                     0.0  \n",
              "8149    Neutral                 0.0                     0.0  \n",
              "10981   Neutral                 0.0                     0.0  \n",
              "14799   Neutral                 0.0                     0.0  \n",
              "24619   Neutral                 0.0                     0.0  "
            ]
          },
          "metadata": {},
          "execution_count": 148
        }
      ]
    },
    {
      "cell_type": "markdown",
      "metadata": {
        "id": "bKrWBq6uAg9a"
      },
      "source": [
        "These rows too seems to have redundant and unrecorded information so droping  wont affect our dataset."
      ]
    },
    {
      "cell_type": "code",
      "metadata": {
        "colab": {
          "base_uri": "https://localhost:8080/"
        },
        "id": "WEHERhGxBEsV",
        "outputId": "dcdcb26d-15dd-409e-edae-905bd377c53d"
      },
      "source": [
        "# Dropping the null values and cross checking the null value count\n",
        "review_df.dropna(inplace = True)\n",
        "print(null_count(review_df))"
      ],
      "execution_count": 149,
      "outputs": [
        {
          "output_type": "stream",
          "name": "stdout",
          "text": [
            "Empty DataFrame\n",
            "Columns: [Null value Count]\n",
            "Index: []\n"
          ]
        }
      ]
    },
    {
      "cell_type": "markdown",
      "metadata": {
        "id": "zr9yjKYkzAP_"
      },
      "source": [
        "Now we have cleaned the data it is now ready for the most important part of the data investigation and analysis in a data pipeline: Exploratory analysis and visualisation."
      ]
    },
    {
      "cell_type": "markdown",
      "metadata": {
        "id": "lrJZvF4fzasn"
      },
      "source": [
        "# Data Visualization on Play store apps Dataset"
      ]
    },
    {
      "cell_type": "markdown",
      "metadata": {
        "id": "jTicw0Ab0FCs"
      },
      "source": [
        "Exploratory data analysis(**EDA**) is a method of analysing and summerizing the datasets in order to come up with some useful insights.\n",
        "\n",
        "### Lets see the visualization of the number of apps secured by each category.\n",
        "\n"
      ]
    },
    {
      "cell_type": "code",
      "metadata": {
        "id": "5RKsYf2SJ1qC"
      },
      "source": [
        "# Create the copies of the dataset\n",
        "new_df = apps_df.copy()\n",
        "new_review_df = review_df.copy()"
      ],
      "execution_count": 150,
      "outputs": []
    },
    {
      "cell_type": "code",
      "metadata": {
        "colab": {
          "base_uri": "https://localhost:8080/",
          "height": 235
        },
        "id": "YK7sMdOczk4m",
        "outputId": "33de0f60-72a4-4599-f909-e05f409b5f04"
      },
      "source": [
        "new_df.head()"
      ],
      "execution_count": 151,
      "outputs": [
        {
          "output_type": "execute_result",
          "data": {
            "text/html": [
              "<div>\n",
              "<style scoped>\n",
              "    .dataframe tbody tr th:only-of-type {\n",
              "        vertical-align: middle;\n",
              "    }\n",
              "\n",
              "    .dataframe tbody tr th {\n",
              "        vertical-align: top;\n",
              "    }\n",
              "\n",
              "    .dataframe thead th {\n",
              "        text-align: right;\n",
              "    }\n",
              "</style>\n",
              "<table border=\"1\" class=\"dataframe\">\n",
              "  <thead>\n",
              "    <tr style=\"text-align: right;\">\n",
              "      <th></th>\n",
              "      <th>App</th>\n",
              "      <th>Category</th>\n",
              "      <th>Rating</th>\n",
              "      <th>Reviews</th>\n",
              "      <th>Size</th>\n",
              "      <th>...</th>\n",
              "      <th>Content Rating</th>\n",
              "      <th>Genres</th>\n",
              "      <th>Last Updated</th>\n",
              "      <th>Current Ver</th>\n",
              "      <th>Android Ver</th>\n",
              "    </tr>\n",
              "  </thead>\n",
              "  <tbody>\n",
              "    <tr>\n",
              "      <th>0</th>\n",
              "      <td>Photo Editor &amp; Candy Camera &amp; Grid &amp; ScrapBook</td>\n",
              "      <td>ART_AND_DESIGN</td>\n",
              "      <td>4.1</td>\n",
              "      <td>159</td>\n",
              "      <td>19M</td>\n",
              "      <td>...</td>\n",
              "      <td>Everyone</td>\n",
              "      <td>Art &amp; Design</td>\n",
              "      <td>January 7, 2018</td>\n",
              "      <td>1.0.0</td>\n",
              "      <td>4.0.3 and up</td>\n",
              "    </tr>\n",
              "    <tr>\n",
              "      <th>1</th>\n",
              "      <td>Coloring book moana</td>\n",
              "      <td>ART_AND_DESIGN</td>\n",
              "      <td>3.9</td>\n",
              "      <td>967</td>\n",
              "      <td>14M</td>\n",
              "      <td>...</td>\n",
              "      <td>Everyone</td>\n",
              "      <td>Art &amp; Design;Pretend Play</td>\n",
              "      <td>January 15, 2018</td>\n",
              "      <td>2.0.0</td>\n",
              "      <td>4.0.3 and up</td>\n",
              "    </tr>\n",
              "    <tr>\n",
              "      <th>2</th>\n",
              "      <td>U Launcher Lite – FREE Live Cool Themes, Hide ...</td>\n",
              "      <td>ART_AND_DESIGN</td>\n",
              "      <td>4.7</td>\n",
              "      <td>87510</td>\n",
              "      <td>8.7M</td>\n",
              "      <td>...</td>\n",
              "      <td>Everyone</td>\n",
              "      <td>Art &amp; Design</td>\n",
              "      <td>August 1, 2018</td>\n",
              "      <td>1.2.4</td>\n",
              "      <td>4.0.3 and up</td>\n",
              "    </tr>\n",
              "    <tr>\n",
              "      <th>3</th>\n",
              "      <td>Sketch - Draw &amp; Paint</td>\n",
              "      <td>ART_AND_DESIGN</td>\n",
              "      <td>4.5</td>\n",
              "      <td>215644</td>\n",
              "      <td>25M</td>\n",
              "      <td>...</td>\n",
              "      <td>Teen</td>\n",
              "      <td>Art &amp; Design</td>\n",
              "      <td>June 8, 2018</td>\n",
              "      <td>Varies with device</td>\n",
              "      <td>4.2 and up</td>\n",
              "    </tr>\n",
              "    <tr>\n",
              "      <th>4</th>\n",
              "      <td>Pixel Draw - Number Art Coloring Book</td>\n",
              "      <td>ART_AND_DESIGN</td>\n",
              "      <td>4.3</td>\n",
              "      <td>967</td>\n",
              "      <td>2.8M</td>\n",
              "      <td>...</td>\n",
              "      <td>Everyone</td>\n",
              "      <td>Art &amp; Design;Creativity</td>\n",
              "      <td>June 20, 2018</td>\n",
              "      <td>1.1</td>\n",
              "      <td>4.4 and up</td>\n",
              "    </tr>\n",
              "  </tbody>\n",
              "</table>\n",
              "<p>5 rows × 13 columns</p>\n",
              "</div>"
            ],
            "text/plain": [
              "                                                 App        Category  Rating  \\\n",
              "0     Photo Editor & Candy Camera & Grid & ScrapBook  ART_AND_DESIGN     4.1   \n",
              "1                                Coloring book moana  ART_AND_DESIGN     3.9   \n",
              "2  U Launcher Lite – FREE Live Cool Themes, Hide ...  ART_AND_DESIGN     4.7   \n",
              "3                              Sketch - Draw & Paint  ART_AND_DESIGN     4.5   \n",
              "4              Pixel Draw - Number Art Coloring Book  ART_AND_DESIGN     4.3   \n",
              "\n",
              "  Reviews  Size  ... Content Rating                     Genres  \\\n",
              "0     159   19M  ...       Everyone               Art & Design   \n",
              "1     967   14M  ...       Everyone  Art & Design;Pretend Play   \n",
              "2   87510  8.7M  ...       Everyone               Art & Design   \n",
              "3  215644   25M  ...           Teen               Art & Design   \n",
              "4     967  2.8M  ...       Everyone    Art & Design;Creativity   \n",
              "\n",
              "       Last Updated         Current Ver   Android Ver  \n",
              "0   January 7, 2018               1.0.0  4.0.3 and up  \n",
              "1  January 15, 2018               2.0.0  4.0.3 and up  \n",
              "2    August 1, 2018               1.2.4  4.0.3 and up  \n",
              "3      June 8, 2018  Varies with device    4.2 and up  \n",
              "4     June 20, 2018                 1.1    4.4 and up  \n",
              "\n",
              "[5 rows x 13 columns]"
            ]
          },
          "metadata": {},
          "execution_count": 151
        }
      ]
    },
    {
      "cell_type": "code",
      "metadata": {
        "colab": {
          "base_uri": "https://localhost:8080/"
        },
        "id": "K5tu1g8QW8eb",
        "outputId": "e3a97be7-d2b6-411d-e5a8-56bb9503d933"
      },
      "source": [
        "#Count of unique values categories\n",
        "new_df['Category'].value_counts().sort_values(ascending = False)"
      ],
      "execution_count": 152,
      "outputs": [
        {
          "output_type": "execute_result",
          "data": {
            "text/plain": [
              "FAMILY                 1940\n",
              "GAME                   1121\n",
              "TOOLS                   841\n",
              "BUSINESS                427\n",
              "MEDICAL                 408\n",
              "PRODUCTIVITY            407\n",
              "PERSONALIZATION         386\n",
              "LIFESTYLE               373\n",
              "COMMUNICATION           366\n",
              "FINANCE                 360\n",
              "SPORTS                  351\n",
              "PHOTOGRAPHY             322\n",
              "HEALTH_AND_FITNESS      306\n",
              "SOCIAL                  280\n",
              "NEWS_AND_MAGAZINES      264\n",
              "TRAVEL_AND_LOCAL        237\n",
              "BOOKS_AND_REFERENCE     229\n",
              "SHOPPING                224\n",
              "DATING                  196\n",
              "VIDEO_PLAYERS           175\n",
              "MAPS_AND_NAVIGATION     137\n",
              "EDUCATION               130\n",
              "FOOD_AND_DRINK          124\n",
              "ENTERTAINMENT           111\n",
              "AUTO_AND_VEHICLES        85\n",
              "LIBRARIES_AND_DEMO       84\n",
              "WEATHER                  82\n",
              "HOUSE_AND_HOME           80\n",
              "EVENTS                   64\n",
              "ART_AND_DESIGN           64\n",
              "PARENTING                60\n",
              "COMICS                   60\n",
              "BEAUTY                   53\n",
              "Name: Category, dtype: int64"
            ]
          },
          "metadata": {},
          "execution_count": 152
        }
      ]
    },
    {
      "cell_type": "code",
      "metadata": {
        "colab": {
          "base_uri": "https://localhost:8080/"
        },
        "id": "ArEYd_vjatLq",
        "outputId": "a6b920c7-b5c1-4246-cf62-2cd35777ef67"
      },
      "source": [
        "new_df.dtypes"
      ],
      "execution_count": 153,
      "outputs": [
        {
          "output_type": "execute_result",
          "data": {
            "text/plain": [
              "App                object\n",
              "Category           object\n",
              "Rating            float64\n",
              "Reviews            object\n",
              "Size               object\n",
              "Installs           object\n",
              "Type               object\n",
              "Price              object\n",
              "Content Rating     object\n",
              "Genres             object\n",
              "Last Updated       object\n",
              "Current Ver        object\n",
              "Android Ver        object\n",
              "dtype: object"
            ]
          },
          "metadata": {},
          "execution_count": 153
        }
      ]
    },
    {
      "cell_type": "code",
      "metadata": {
        "colab": {
          "base_uri": "https://localhost:8080/",
          "height": 523
        },
        "id": "Z200QD14KhaO",
        "outputId": "7e8aadad-3b43-4bbc-d8b3-b5fd2e2e4cd2"
      },
      "source": [
        "# Visualizing the count of apps of each categories\n",
        "category_index = new_df['Category'].value_counts().sort_values(ascending = False).index\n",
        "\n",
        "sns.set(rc = {'figure.figsize': (20,6)})\n",
        "sns.countplot(x = 'Category',data = new_df, \n",
        "              order = new_df['Category'].value_counts().sort_values(ascending = False).index,\n",
        "              palette = 'ch:s=.25,rot=-.25')\n",
        "plt.xticks(rotation = 90)\n",
        "plt.show()"
      ],
      "execution_count": 228,
      "outputs": [
        {
          "output_type": "display_data",
          "data": {
            "image/png": "[encoded data removed]",
            "text/plain": [
              "<Figure size 1440x432 with 1 Axes>"
            ]
          },
          "metadata": {}
        }
      ]
    },
    {
      "cell_type": "markdown",
      "metadata": {
        "id": "t9R1XUynX4Xw"
      },
      "source": [
        "Top five categories which have highest numbers of apps on the playstore are:\n",
        "* Family\n",
        "* Game\n",
        "* Tools\n",
        "* Business\n",
        "* Medical\n",
        "\n"
      ]
    },
    {
      "cell_type": "markdown",
      "metadata": {
        "id": "_m-zRIntZoU7"
      },
      "source": [
        "### Let's check the histogram of the  rating columns"
      ]
    },
    {
      "cell_type": "code",
      "metadata": {
        "colab": {
          "base_uri": "https://localhost:8080/",
          "height": 411
        },
        "id": "aJoBTM-DZNh6",
        "outputId": "b40a17e5-abc7-4adc-e73c-ea52e82e8a23"
      },
      "source": [
        "# Histogram of Rating column\n",
        "new_df['Rating'].plot.hist(color = '#9c1414')\n",
        "plt.xlabel('Ratings')"
      ],
      "execution_count": 155,
      "outputs": [
        {
          "output_type": "execute_result",
          "data": {
            "text/plain": [
              "Text(0.5, 0, 'Ratings')"
            ]
          },
          "metadata": {},
          "execution_count": 155
        },
        {
          "output_type": "display_data",
          "data": {
            "image/png": "[encoded data removed]",
            "text/plain": [
              "<Figure size 1440x432 with 1 Axes>"
            ]
          },
          "metadata": {}
        }
      ]
    },
    {
      "cell_type": "markdown",
      "metadata": {
        "id": "wrUix5qSdlsc"
      },
      "source": [
        "Most of the apps on the play store have rating between 4-5."
      ]
    },
    {
      "cell_type": "markdown",
      "metadata": {
        "id": "PiBrVzL5eMnn"
      },
      "source": [
        "### Total reviews secured by each category"
      ]
    },
    {
      "cell_type": "markdown",
      "metadata": {
        "id": "BfqLfSt3hqVQ"
      },
      "source": [
        "The Review column is not in its proper format. Its datatype should be numerical by it seems it is Object. We need to change its object format to Integer."
      ]
    },
    {
      "cell_type": "code",
      "metadata": {
        "colab": {
          "base_uri": "https://localhost:8080/",
          "height": 534
        },
        "id": "H5Qh-6emZN3l",
        "outputId": "96584426-f38b-429e-b87e-3b2db09c52bf"
      },
      "source": [
        "# Changing datatype of reviews column to integer\n",
        "new_df['Reviews'] = new_df['Reviews'].astype('int')\n",
        "\n",
        "# plotting total reviews for each categories\n",
        "category_reviews = new_df.groupby('Category')['Reviews'].sum()\n",
        "category_reviews.sort_values(ascending = False , inplace = True)\n",
        "category_reviews.plot.bar(color = '#52707a')\n",
        "plt.show()"
      ],
      "execution_count": 156,
      "outputs": [
        {
          "output_type": "display_data",
          "data": {
            "image/png": "[encoded data removed]",
            "text/plain": [
              "<Figure size 1440x432 with 1 Axes>"
            ]
          },
          "metadata": {}
        }
      ]
    },
    {
      "cell_type": "markdown",
      "metadata": {
        "id": "5N45lIYvY1-k"
      },
      "source": [
        "Top 5 categories having highest number of reviews:  \n",
        "1)Game\n",
        "\n",
        "2)Communication\n",
        "\n",
        "3)Social\n",
        "\n",
        "4)Family\n",
        "\n",
        "5)Tools\n",
        "\n",
        "People prefer to review most of apps of **Game** category.\n"
      ]
    },
    {
      "cell_type": "markdown",
      "metadata": {
        "id": "AbVGjERvqsD9"
      },
      "source": [
        "### Lets check the top ten categories having  highest numbers of installs.\n",
        "We need to change the datatype of the installs column to integer but to do that, first we need to remove the '+ ,' character from from every values in Installs column."
      ]
    },
    {
      "cell_type": "code",
      "metadata": {
        "id": "Q-KLcPXZKk1C",
        "colab": {
          "base_uri": "https://localhost:8080/"
        },
        "outputId": "baa8f80c-3232-4f37-e8af-4bcb3bbbafef"
      },
      "source": [
        "# Changing the datatype of the installs column to integer\n",
        "def change_dtype(value):\n",
        "  value = value.replace('+' , '').replace(',','')\n",
        "  value = int(value)\n",
        "  return value\n",
        " \n",
        "new_df['Installs'] = new_df['Installs'].apply(change_dtype)\n",
        "new_df['Installs'].dtype"
      ],
      "execution_count": 157,
      "outputs": [
        {
          "output_type": "execute_result",
          "data": {
            "text/plain": [
              "dtype('int64')"
            ]
          },
          "metadata": {},
          "execution_count": 157
        }
      ]
    },
    {
      "cell_type": "code",
      "metadata": {
        "colab": {
          "base_uri": "https://localhost:8080/",
          "height": 427
        },
        "id": "6dDU4b7Erb4R",
        "outputId": "5b64a9c6-1070-4003-b2e0-f6a307ea1d39"
      },
      "source": [
        "# Top ten categories based on total installs\n",
        "top_installs = new_df.groupby('Category')['Installs'].sum().sort_values(ascending = False)\n",
        "top_installs = top_installs.reset_index().head(10)\n",
        "\n",
        "#Defining colors and size of bubbles\n",
        "colors = np.random.randint(len(top_installs) , size =(len(top_installs)))\n",
        "size = np.random.randint(1000, size =(len(top_installs)))\n",
        "\n",
        "# Plotting the scatterplot\n",
        "plt.scatter(x = top_installs['Category'],\n",
        "            y = top_installs['Installs'],\n",
        "            c = colors,\n",
        "            s = size,\n",
        "            cmap = 'Accent')\n",
        "\n",
        "#Defining the title and labels\n",
        "plt.title('Categoty vs Total Installs')\n",
        "plt.xlabel('Category')\n",
        "plt.ylabel('Installs')\n"
      ],
      "execution_count": 223,
      "outputs": [
        {
          "output_type": "execute_result",
          "data": {
            "text/plain": [
              "Text(0, 0.5, 'Installs')"
            ]
          },
          "metadata": {},
          "execution_count": 223
        },
        {
          "output_type": "display_data",
          "data": {
            "image/png": "[encoded data removed]",
            "text/plain": [
              "<Figure size 1440x432 with 1 Axes>"
            ]
          },
          "metadata": {}
        }
      ]
    },
    {
      "cell_type": "markdown",
      "metadata": {
        "id": "vJOUoGO2GI3j"
      },
      "source": [
        "The visualization clearly shows the top ten categories having highest number of installs.\n",
        "\n",
        "People mostly prefer installing apps of the Gamming and Communication categories \n"
      ]
    },
    {
      "cell_type": "markdown",
      "metadata": {
        "id": "HwLTKJ3xHHdr"
      },
      "source": [
        "### Free and Paid apps on the play store"
      ]
    },
    {
      "cell_type": "code",
      "metadata": {
        "colab": {
          "base_uri": "https://localhost:8080/",
          "height": 374
        },
        "id": "iUbVUsvXHG02",
        "outputId": "18ecee24-e0ad-4926-bd0b-b6ed842cd77c"
      },
      "source": [
        "new_df['Type'].value_counts().plot.pie()"
      ],
      "execution_count": 227,
      "outputs": [
        {
          "output_type": "execute_result",
          "data": {
            "text/plain": [
              "<matplotlib.axes._subplots.AxesSubplot at 0x7f4f8acde690>"
            ]
          },
          "metadata": {},
          "execution_count": 227
        },
        {
          "output_type": "display_data",
          "data": {
            "image/png": "[encoded data removed]",
            "text/plain": [
              "<Figure size 1440x432 with 1 Axes>"
            ]
          },
          "metadata": {}
        }
      ]
    },
    {
      "cell_type": "markdown",
      "metadata": {
        "id": "ijvf35mN4TBO"
      },
      "source": [
        "### Density of genres on the playstore"
      ]
    },
    {
      "cell_type": "code",
      "metadata": {
        "colab": {
          "base_uri": "https://localhost:8080/"
        },
        "id": "SJlw6uCz2wU9",
        "outputId": "0dea51e0-6225-46d1-a008-9f001b7a3185"
      },
      "source": [
        "new_df['Genres'].iloc[1].replace('&' , ' ').replace(';' , ' ').split()"
      ],
      "execution_count": 179,
      "outputs": [
        {
          "output_type": "execute_result",
          "data": {
            "text/plain": [
              "['Art', 'Design', 'Pretend', 'Play']"
            ]
          },
          "metadata": {},
          "execution_count": 179
        }
      ]
    },
    {
      "cell_type": "code",
      "metadata": {
        "id": "70oISMYZ5bWP"
      },
      "source": [
        "def clean_genres(genres):\n",
        "  genres_list = genres.replace('&',' ').replace(';' , ' ').split()\n",
        "  return genres_list"
      ],
      "execution_count": 184,
      "outputs": []
    },
    {
      "cell_type": "code",
      "metadata": {
        "id": "IGlh69ICueDw"
      },
      "source": [
        ""
      ],
      "execution_count": 185,
      "outputs": []
    },
    {
      "cell_type": "code",
      "metadata": {
        "colab": {
          "base_uri": "https://localhost:8080/"
        },
        "id": "kEqo2bkevWCK",
        "outputId": "43466e04-5250-4c7a-bfe3-9aee16663114"
      },
      "source": [
        "new_df['Genres'].head()"
      ],
      "execution_count": 186,
      "outputs": [
        {
          "output_type": "execute_result",
          "data": {
            "text/plain": [
              "0                   [Art, Design]\n",
              "1    [Art, Design, Pretend, Play]\n",
              "2                   [Art, Design]\n",
              "3                   [Art, Design]\n",
              "4       [Art, Design, Creativity]\n",
              "Name: Genres, dtype: object"
            ]
          },
          "metadata": {},
          "execution_count": 186
        }
      ]
    },
    {
      "cell_type": "code",
      "metadata": {
        "colab": {
          "base_uri": "https://localhost:8080/",
          "height": 234
        },
        "id": "Tjrbq-g2v-9t",
        "outputId": "a0d78f96-3cb1-44e2-e625-18999cf6e58d"
      },
      "source": [
        "\n",
        "\n",
        "\n"
      ],
      "execution_count": 194,
      "outputs": [
        {
          "output_type": "error",
          "ename": "NameError",
          "evalue": "ignored",
          "traceback": [
            "\u001b[0;31m---------------------------------------------------------------------------\u001b[0m",
            "\u001b[0;31mNameError\u001b[0m                                 Traceback (most recent call last)",
            "\u001b[0;32m<ipython-input-194-f8159a79d039>\u001b[0m in \u001b[0;36m<module>\u001b[0;34m()\u001b[0m\n\u001b[1;32m     11\u001b[0m     \u001b[0mgenres_dict\u001b[0m\u001b[0;34m[\u001b[0m\u001b[0mgenre\u001b[0m\u001b[0;34m]\u001b[0m \u001b[0;34m=\u001b[0m \u001b[0;36m0\u001b[0m\u001b[0;34m\u001b[0m\u001b[0;34m\u001b[0m\u001b[0m\n\u001b[1;32m     12\u001b[0m   \u001b[0;32melse\u001b[0m\u001b[0;34m:\u001b[0m\u001b[0;34m\u001b[0m\u001b[0;34m\u001b[0m\u001b[0m\n\u001b[0;32m---> 13\u001b[0;31m     \u001b[0mgenres_dict\u001b[0m\u001b[0;34m[\u001b[0m\u001b[0mgenre\u001b[0m\u001b[0;34m]\u001b[0m \u001b[0;34m+=\u001b[0m \u001b[0;36m1\u001b[0m\u001b[0;34m\u001b[0m\u001b[0;34m\u001b[0m\u001b[0m\n\u001b[0m\u001b[1;32m     14\u001b[0m \u001b[0;34m\u001b[0m\u001b[0m\n\u001b[1;32m     15\u001b[0m \u001b[0;34m\u001b[0m\u001b[0m\n",
            "\u001b[0;31mNameError\u001b[0m: name 'genre' is not defined"
          ]
        }
      ]
    },
    {
      "cell_type": "code",
      "metadata": {
        "id": "6d0obM5m7cJG"
      },
      "source": [
        ""
      ],
      "execution_count": null,
      "outputs": []
    }
  ]
}